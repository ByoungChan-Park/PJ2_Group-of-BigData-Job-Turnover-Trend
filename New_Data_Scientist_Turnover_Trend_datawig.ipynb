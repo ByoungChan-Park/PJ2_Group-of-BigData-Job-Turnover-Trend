{
  "nbformat": 4,
  "nbformat_minor": 0,
  "metadata": {
    "colab": {
      "name": "New_Data_Scientist_Turnover_Trend_datawig.ipynb의 사본",
      "provenance": [],
      "collapsed_sections": [],
      "include_colab_link": true
    },
    "kernelspec": {
      "name": "python3",
      "display_name": "Python 3"
    },
    "language_info": {
      "name": "python"
    },
    "accelerator": "GPU"
  },
  "cells": [
    {
      "cell_type": "markdown",
      "metadata": {
        "id": "view-in-github",
        "colab_type": "text"
      },
      "source": [
        "<a href=\"https://colab.research.google.com/github/ByoungChan-Park/PJ2_Group-of-BigData-Job-Turnover-Trend/blob/main/New_Data_Scientist_Turnover_Trend_datawig.ipynb\" target=\"_parent\"><img src=\"https://colab.research.google.com/assets/colab-badge.svg\" alt=\"Open In Colab\"/></a>"
      ]
    },
    {
      "cell_type": "markdown",
      "source": [
        "# 1. Data Description\n",
        "\n",
        "- 1.1 해당 데이터 선정 이유\n",
        "- 1.2 문제제기 방향\n",
        "- 1.3 분석 목표\n",
        "\n",
        "---\n",
        "\n",
        "\n",
        "> ## 1.1 해당 데이터 선정 이유\n",
        "- 본인이 데이터 분석가로 거듭나기 위한 선상에 놓여있기에, \\\n",
        "  데이터직종의 이직트렌드를 시사하기 적합하단 판단으로 데이터 선정 \\\n",
        "  \n",
        "> - 대한민국에서의 데이터직군의 역사는 길지 않아 데이터 또한 많지 않았기에, \\\n",
        "데이터 산업의 근간이었던 미국의 데이터를 선정\n",
        "\n",
        "  \n",
        "\n",
        "\n",
        "\n",
        "\n",
        "\n"
      ],
      "metadata": {
        "id": "Oyd_vFseJ5eF"
      }
    },
    {
      "cell_type": "markdown",
      "source": [
        "> ## 1.2 문제제기 방향\n",
        "- 이직성향이 어떤 특성으로 인해 좌우되는지 순위별로 확인\n",
        "\n",
        "> - IT 직군에서의 이직은 도메인지식을 얻기 전까지는 빈번한 편에 속한다고 하는데, 단순 카더라가 아닌,\\\n",
        "  데이터적으로도 근속연차에 따라 이직률의 차이가 있는지 분석한다.\n",
        "\n",
        "> - IT산업의 경우 신 산업분야중 하나이기에 대한민국의 판교처럼 업무환경이 인프라가 좋은곳인 경우가 많은데, 이는 보다 좋은인프라를 가진 도시로의 이직 희망율과 연관지을 수 있을 것 같다. 따라서 도시의 개발지수에 따라 이직희망율이 어떤지 분석한다.\n"
      ],
      "metadata": {
        "id": "RQXV3v9Jb7OK"
      }
    },
    {
      "cell_type": "markdown",
      "source": [
        "\n",
        "\n",
        "> ## 1.3 분석 목표\n",
        "- 데이터 직군 종사자들의 이직성향을 파악하여 예비 데이터직군 종사자들에게 시사한다.\n",
        "\n",
        "\n",
        "\n"
      ],
      "metadata": {
        "id": "Ey5JpZqmBkxU"
      }
    },
    {
      "cell_type": "markdown",
      "source": [
        "> #### *1) 라이브러리 설치*"
      ],
      "metadata": {
        "id": "9NybdT-h30jN"
      }
    },
    {
      "cell_type": "code",
      "source": [
        "#@title\n",
        "# import sys\n",
        "# if 'google.colab' in sys.modules:\n",
        "#   !pip3 install datawig"
      ],
      "metadata": {
        "cellView": "form",
        "id": "deHkkhMQZxfH"
      },
      "execution_count": null,
      "outputs": []
    },
    {
      "cell_type": "markdown",
      "source": [
        "> #### *2) 모듈 불러오기*"
      ],
      "metadata": {
        "id": "DHV8LgF43_gd"
      }
    },
    {
      "cell_type": "code",
      "source": [
        "#@title\n",
        "\n",
        "# To DataFrame\n",
        "import pandas as pd\n",
        "import numpy as np\n",
        "import datawig"
      ],
      "metadata": {
        "id": "b5rVRfT3A5bL"
      },
      "execution_count": 1,
      "outputs": []
    },
    {
      "cell_type": "code",
      "source": [
        "#@title\n",
        "# # To Visualization\n",
        "# import matplotlib.pyplot as plt\n",
        "# import matplotlib.font_manager as fm\n",
        "# import seaborn as sns\n",
        "# fontpath = '/usr/share/fonts/truetype/nanum/NanumBarunGothic.ttf'\n",
        "# font = fm.FontProperties(fname=fontpath, size=9)\n",
        "# fm._rebuild()\n",
        "# plt.rc('font', family='NanumBarunGothic') \n",
        "# from pandas_profiling import ProfileReport\n",
        "# from pdpbox import pdp\n",
        "# import eli5\n",
        "# from eli5.sklearn import PermutationImportance\n",
        "\n",
        "# # To Preprocessing\n",
        "# from imblearn.over_sampling import SMOTE\n",
        "# from sklearn.experimental import enable_iterative_imputer\n",
        "# from sklearn.impute import IterativeImputer\n",
        "# import datawig\n",
        "\n",
        "# # To Encoding\n",
        "# # from sklearn.preprocessing import LabelEncoder\n",
        "# # from sklearn.preprocessing import OneHotEncoder\n",
        "# # from category_encoders import OrdinalEncoder\n",
        "\n",
        "# # To Mechine Learning\n",
        "# from sklearn.model_selection import train_test_split\n",
        "# from sklearn.ensemble import RandomForestClassifier\n",
        "# from sklearn import preprocessing\n",
        "# from sklearn.metrics import roc_curve\n",
        "# from sklearn.metrics import roc_auc_score\n",
        "# from sklearn.metrics import plot_confusion_matrix\n",
        "# from sklearn.pipeline import make_pipeline\n",
        "# from sklearn.impute import SimpleImputer\n",
        "# from sklearn.metrics import f1_score\n",
        "# from sklearn.metrics import classification_report\n",
        "\n",
        "# from xgboost import XGBClassifier\n",
        "# from sklearn.model_selection import RandomizedSearchCV\n",
        "# from scipy.stats import randint, uniform"
      ],
      "metadata": {
        "cellView": "form",
        "id": "nB0phV_BeAGC"
      },
      "execution_count": null,
      "outputs": []
    },
    {
      "cell_type": "markdown",
      "source": [
        "# 2. Data Exploration\n",
        "\n",
        "- 2.1 Import Data from GoogleDrive\n",
        "- 2.2 Introduce Column\n",
        "- 2.3 Data Profiling(사전확인)"
      ],
      "metadata": {
        "id": "pn-R4AEUC7qU"
      }
    },
    {
      "cell_type": "markdown",
      "source": [
        "> ## 2.1 Import Data from GoogleDrive"
      ],
      "metadata": {
        "id": "fYj0u8wk4aG3"
      }
    },
    {
      "cell_type": "code",
      "execution_count": 2,
      "metadata": {
        "id": "DhGKIQg6Au4i",
        "colab": {
          "base_uri": "https://localhost:8080/"
        },
        "outputId": "c7e23744-a220-471c-de1b-143e1feb7640"
      },
      "outputs": [
        {
          "output_type": "stream",
          "name": "stdout",
          "text": [
            "Mounted at /content/drive\n"
          ]
        }
      ],
      "source": [
        "from google.colab import drive\n",
        "drive.mount('/content/drive')"
      ]
    },
    {
      "cell_type": "code",
      "source": [
        "train_mice = pd.read_csv('/content/drive/MyDrive/bootcamp_project/HR Analytics/train_mice.csv')"
      ],
      "metadata": {
        "id": "D-si87ceDdnZ"
      },
      "execution_count": 3,
      "outputs": []
    },
    {
      "cell_type": "markdown",
      "source": [
        ">> ### **3.1_4 Categorical Variable Missing Value Processing**\n",
        "- datawig 라이브러리를 활용해 결측값 대치\n",
        "- *(major_discipline,　gender,　company_type)*\n",
        "\n",
        "---"
      ],
      "metadata": {
        "id": "AfmGroC5bwvG"
      }
    },
    {
      "cell_type": "code",
      "source": [
        "train_mice"
      ],
      "metadata": {
        "colab": {
          "base_uri": "https://localhost:8080/",
          "height": 487
        },
        "id": "qLwNha8Obs4s",
        "outputId": "3f6bf3f8-ff60-4d8c-d609-526b6ece80d0"
      },
      "execution_count": 4,
      "outputs": [
        {
          "output_type": "execute_result",
          "data": {
            "text/plain": [
              "       enrollee_id  gender  enrolled_university  education_level  \\\n",
              "0             7041    Male                  0.0              2.0   \n",
              "1            29117     NaN                  2.0              2.0   \n",
              "2            30937  Female                  1.0              2.0   \n",
              "3            25290     NaN                  0.0              1.0   \n",
              "4            10481     NaN                  2.0              2.0   \n",
              "...            ...     ...                  ...              ...   \n",
              "19153        29245    Male                  0.0              2.0   \n",
              "19154        12786     NaN                  2.0              2.0   \n",
              "19155         9158     NaN                  0.0              3.0   \n",
              "19156        32626   Other                  0.0              2.0   \n",
              "19157         2299     NaN                  0.0              2.0   \n",
              "\n",
              "      major_discipline  training_hours  relevent_experience  experience  \\\n",
              "0           Humanities              65                    1         0.0   \n",
              "1                 STEM              12                    0         0.0   \n",
              "2                 STEM              83                    0         0.0   \n",
              "3                  NaN              29                    1         0.0   \n",
              "4      Business Degree             214                    0         0.0   \n",
              "...                ...             ...                  ...         ...   \n",
              "19153       Humanities              91                    0        10.0   \n",
              "19154             STEM              26                    1        10.0   \n",
              "19155             STEM              13                    1        10.0   \n",
              "19156              NaN              51                    1        10.0   \n",
              "19157             STEM             182                    1        10.0   \n",
              "\n",
              "       last_new_job      city  city_development_index company_type  \\\n",
              "0               4.0   city_40                   0.776      Pvt Ltd   \n",
              "1               5.0   city_11                   0.550          NaN   \n",
              "2               3.0   city_57                   0.866      Pvt Ltd   \n",
              "3               4.0  city_173                   0.878      Pvt Ltd   \n",
              "4               5.0  city_102                   0.804          NaN   \n",
              "...             ...       ...                     ...          ...   \n",
              "19153           4.0  city_102                   0.804          NaN   \n",
              "19154           3.0  city_136                   0.897          NGO   \n",
              "19155           4.0   city_21                   0.624          NaN   \n",
              "19156           4.0  city_150                   0.698          NaN   \n",
              "19157           3.0   city_21                   0.624          NaN   \n",
              "\n",
              "       company_size  target  \n",
              "0               5.0       0  \n",
              "1               3.0       0  \n",
              "2               1.0       0  \n",
              "3               3.0       0  \n",
              "4               3.0       0  \n",
              "...             ...     ...  \n",
              "19153           3.0       1  \n",
              "19154           1.0       1  \n",
              "19155           6.0       1  \n",
              "19156           1.0       1  \n",
              "19157           1.0       1  \n",
              "\n",
              "[19158 rows x 14 columns]"
            ],
            "text/html": [
              "\n",
              "  <div id=\"df-3506f49e-dae5-4929-9e64-966f441e5213\">\n",
              "    <div class=\"colab-df-container\">\n",
              "      <div>\n",
              "<style scoped>\n",
              "    .dataframe tbody tr th:only-of-type {\n",
              "        vertical-align: middle;\n",
              "    }\n",
              "\n",
              "    .dataframe tbody tr th {\n",
              "        vertical-align: top;\n",
              "    }\n",
              "\n",
              "    .dataframe thead th {\n",
              "        text-align: right;\n",
              "    }\n",
              "</style>\n",
              "<table border=\"1\" class=\"dataframe\">\n",
              "  <thead>\n",
              "    <tr style=\"text-align: right;\">\n",
              "      <th></th>\n",
              "      <th>enrollee_id</th>\n",
              "      <th>gender</th>\n",
              "      <th>enrolled_university</th>\n",
              "      <th>education_level</th>\n",
              "      <th>major_discipline</th>\n",
              "      <th>training_hours</th>\n",
              "      <th>relevent_experience</th>\n",
              "      <th>experience</th>\n",
              "      <th>last_new_job</th>\n",
              "      <th>city</th>\n",
              "      <th>city_development_index</th>\n",
              "      <th>company_type</th>\n",
              "      <th>company_size</th>\n",
              "      <th>target</th>\n",
              "    </tr>\n",
              "  </thead>\n",
              "  <tbody>\n",
              "    <tr>\n",
              "      <th>0</th>\n",
              "      <td>7041</td>\n",
              "      <td>Male</td>\n",
              "      <td>0.0</td>\n",
              "      <td>2.0</td>\n",
              "      <td>Humanities</td>\n",
              "      <td>65</td>\n",
              "      <td>1</td>\n",
              "      <td>0.0</td>\n",
              "      <td>4.0</td>\n",
              "      <td>city_40</td>\n",
              "      <td>0.776</td>\n",
              "      <td>Pvt Ltd</td>\n",
              "      <td>5.0</td>\n",
              "      <td>0</td>\n",
              "    </tr>\n",
              "    <tr>\n",
              "      <th>1</th>\n",
              "      <td>29117</td>\n",
              "      <td>NaN</td>\n",
              "      <td>2.0</td>\n",
              "      <td>2.0</td>\n",
              "      <td>STEM</td>\n",
              "      <td>12</td>\n",
              "      <td>0</td>\n",
              "      <td>0.0</td>\n",
              "      <td>5.0</td>\n",
              "      <td>city_11</td>\n",
              "      <td>0.550</td>\n",
              "      <td>NaN</td>\n",
              "      <td>3.0</td>\n",
              "      <td>0</td>\n",
              "    </tr>\n",
              "    <tr>\n",
              "      <th>2</th>\n",
              "      <td>30937</td>\n",
              "      <td>Female</td>\n",
              "      <td>1.0</td>\n",
              "      <td>2.0</td>\n",
              "      <td>STEM</td>\n",
              "      <td>83</td>\n",
              "      <td>0</td>\n",
              "      <td>0.0</td>\n",
              "      <td>3.0</td>\n",
              "      <td>city_57</td>\n",
              "      <td>0.866</td>\n",
              "      <td>Pvt Ltd</td>\n",
              "      <td>1.0</td>\n",
              "      <td>0</td>\n",
              "    </tr>\n",
              "    <tr>\n",
              "      <th>3</th>\n",
              "      <td>25290</td>\n",
              "      <td>NaN</td>\n",
              "      <td>0.0</td>\n",
              "      <td>1.0</td>\n",
              "      <td>NaN</td>\n",
              "      <td>29</td>\n",
              "      <td>1</td>\n",
              "      <td>0.0</td>\n",
              "      <td>4.0</td>\n",
              "      <td>city_173</td>\n",
              "      <td>0.878</td>\n",
              "      <td>Pvt Ltd</td>\n",
              "      <td>3.0</td>\n",
              "      <td>0</td>\n",
              "    </tr>\n",
              "    <tr>\n",
              "      <th>4</th>\n",
              "      <td>10481</td>\n",
              "      <td>NaN</td>\n",
              "      <td>2.0</td>\n",
              "      <td>2.0</td>\n",
              "      <td>Business Degree</td>\n",
              "      <td>214</td>\n",
              "      <td>0</td>\n",
              "      <td>0.0</td>\n",
              "      <td>5.0</td>\n",
              "      <td>city_102</td>\n",
              "      <td>0.804</td>\n",
              "      <td>NaN</td>\n",
              "      <td>3.0</td>\n",
              "      <td>0</td>\n",
              "    </tr>\n",
              "    <tr>\n",
              "      <th>...</th>\n",
              "      <td>...</td>\n",
              "      <td>...</td>\n",
              "      <td>...</td>\n",
              "      <td>...</td>\n",
              "      <td>...</td>\n",
              "      <td>...</td>\n",
              "      <td>...</td>\n",
              "      <td>...</td>\n",
              "      <td>...</td>\n",
              "      <td>...</td>\n",
              "      <td>...</td>\n",
              "      <td>...</td>\n",
              "      <td>...</td>\n",
              "      <td>...</td>\n",
              "    </tr>\n",
              "    <tr>\n",
              "      <th>19153</th>\n",
              "      <td>29245</td>\n",
              "      <td>Male</td>\n",
              "      <td>0.0</td>\n",
              "      <td>2.0</td>\n",
              "      <td>Humanities</td>\n",
              "      <td>91</td>\n",
              "      <td>0</td>\n",
              "      <td>10.0</td>\n",
              "      <td>4.0</td>\n",
              "      <td>city_102</td>\n",
              "      <td>0.804</td>\n",
              "      <td>NaN</td>\n",
              "      <td>3.0</td>\n",
              "      <td>1</td>\n",
              "    </tr>\n",
              "    <tr>\n",
              "      <th>19154</th>\n",
              "      <td>12786</td>\n",
              "      <td>NaN</td>\n",
              "      <td>2.0</td>\n",
              "      <td>2.0</td>\n",
              "      <td>STEM</td>\n",
              "      <td>26</td>\n",
              "      <td>1</td>\n",
              "      <td>10.0</td>\n",
              "      <td>3.0</td>\n",
              "      <td>city_136</td>\n",
              "      <td>0.897</td>\n",
              "      <td>NGO</td>\n",
              "      <td>1.0</td>\n",
              "      <td>1</td>\n",
              "    </tr>\n",
              "    <tr>\n",
              "      <th>19155</th>\n",
              "      <td>9158</td>\n",
              "      <td>NaN</td>\n",
              "      <td>0.0</td>\n",
              "      <td>3.0</td>\n",
              "      <td>STEM</td>\n",
              "      <td>13</td>\n",
              "      <td>1</td>\n",
              "      <td>10.0</td>\n",
              "      <td>4.0</td>\n",
              "      <td>city_21</td>\n",
              "      <td>0.624</td>\n",
              "      <td>NaN</td>\n",
              "      <td>6.0</td>\n",
              "      <td>1</td>\n",
              "    </tr>\n",
              "    <tr>\n",
              "      <th>19156</th>\n",
              "      <td>32626</td>\n",
              "      <td>Other</td>\n",
              "      <td>0.0</td>\n",
              "      <td>2.0</td>\n",
              "      <td>NaN</td>\n",
              "      <td>51</td>\n",
              "      <td>1</td>\n",
              "      <td>10.0</td>\n",
              "      <td>4.0</td>\n",
              "      <td>city_150</td>\n",
              "      <td>0.698</td>\n",
              "      <td>NaN</td>\n",
              "      <td>1.0</td>\n",
              "      <td>1</td>\n",
              "    </tr>\n",
              "    <tr>\n",
              "      <th>19157</th>\n",
              "      <td>2299</td>\n",
              "      <td>NaN</td>\n",
              "      <td>0.0</td>\n",
              "      <td>2.0</td>\n",
              "      <td>STEM</td>\n",
              "      <td>182</td>\n",
              "      <td>1</td>\n",
              "      <td>10.0</td>\n",
              "      <td>3.0</td>\n",
              "      <td>city_21</td>\n",
              "      <td>0.624</td>\n",
              "      <td>NaN</td>\n",
              "      <td>1.0</td>\n",
              "      <td>1</td>\n",
              "    </tr>\n",
              "  </tbody>\n",
              "</table>\n",
              "<p>19158 rows × 14 columns</p>\n",
              "</div>\n",
              "      <button class=\"colab-df-convert\" onclick=\"convertToInteractive('df-3506f49e-dae5-4929-9e64-966f441e5213')\"\n",
              "              title=\"Convert this dataframe to an interactive table.\"\n",
              "              style=\"display:none;\">\n",
              "        \n",
              "  <svg xmlns=\"http://www.w3.org/2000/svg\" height=\"24px\"viewBox=\"0 0 24 24\"\n",
              "       width=\"24px\">\n",
              "    <path d=\"M0 0h24v24H0V0z\" fill=\"none\"/>\n",
              "    <path d=\"M18.56 5.44l.94 2.06.94-2.06 2.06-.94-2.06-.94-.94-2.06-.94 2.06-2.06.94zm-11 1L8.5 8.5l.94-2.06 2.06-.94-2.06-.94L8.5 2.5l-.94 2.06-2.06.94zm10 10l.94 2.06.94-2.06 2.06-.94-2.06-.94-.94-2.06-.94 2.06-2.06.94z\"/><path d=\"M17.41 7.96l-1.37-1.37c-.4-.4-.92-.59-1.43-.59-.52 0-1.04.2-1.43.59L10.3 9.45l-7.72 7.72c-.78.78-.78 2.05 0 2.83L4 21.41c.39.39.9.59 1.41.59.51 0 1.02-.2 1.41-.59l7.78-7.78 2.81-2.81c.8-.78.8-2.07 0-2.86zM5.41 20L4 18.59l7.72-7.72 1.47 1.35L5.41 20z\"/>\n",
              "  </svg>\n",
              "      </button>\n",
              "      \n",
              "  <style>\n",
              "    .colab-df-container {\n",
              "      display:flex;\n",
              "      flex-wrap:wrap;\n",
              "      gap: 12px;\n",
              "    }\n",
              "\n",
              "    .colab-df-convert {\n",
              "      background-color: #E8F0FE;\n",
              "      border: none;\n",
              "      border-radius: 50%;\n",
              "      cursor: pointer;\n",
              "      display: none;\n",
              "      fill: #1967D2;\n",
              "      height: 32px;\n",
              "      padding: 0 0 0 0;\n",
              "      width: 32px;\n",
              "    }\n",
              "\n",
              "    .colab-df-convert:hover {\n",
              "      background-color: #E2EBFA;\n",
              "      box-shadow: 0px 1px 2px rgba(60, 64, 67, 0.3), 0px 1px 3px 1px rgba(60, 64, 67, 0.15);\n",
              "      fill: #174EA6;\n",
              "    }\n",
              "\n",
              "    [theme=dark] .colab-df-convert {\n",
              "      background-color: #3B4455;\n",
              "      fill: #D2E3FC;\n",
              "    }\n",
              "\n",
              "    [theme=dark] .colab-df-convert:hover {\n",
              "      background-color: #434B5C;\n",
              "      box-shadow: 0px 1px 3px 1px rgba(0, 0, 0, 0.15);\n",
              "      filter: drop-shadow(0px 1px 2px rgba(0, 0, 0, 0.3));\n",
              "      fill: #FFFFFF;\n",
              "    }\n",
              "  </style>\n",
              "\n",
              "      <script>\n",
              "        const buttonEl =\n",
              "          document.querySelector('#df-3506f49e-dae5-4929-9e64-966f441e5213 button.colab-df-convert');\n",
              "        buttonEl.style.display =\n",
              "          google.colab.kernel.accessAllowed ? 'block' : 'none';\n",
              "\n",
              "        async function convertToInteractive(key) {\n",
              "          const element = document.querySelector('#df-3506f49e-dae5-4929-9e64-966f441e5213');\n",
              "          const dataTable =\n",
              "            await google.colab.kernel.invokeFunction('convertToInteractive',\n",
              "                                                     [key], {});\n",
              "          if (!dataTable) return;\n",
              "\n",
              "          const docLinkHtml = 'Like what you see? Visit the ' +\n",
              "            '<a target=\"_blank\" href=https://colab.research.google.com/notebooks/data_table.ipynb>data table notebook</a>'\n",
              "            + ' to learn more about interactive tables.';\n",
              "          element.innerHTML = '';\n",
              "          dataTable['output_type'] = 'display_data';\n",
              "          await google.colab.output.renderOutput(dataTable, element);\n",
              "          const docLink = document.createElement('div');\n",
              "          docLink.innerHTML = docLinkHtml;\n",
              "          element.appendChild(docLink);\n",
              "        }\n",
              "      </script>\n",
              "    </div>\n",
              "  </div>\n",
              "  "
            ]
          },
          "metadata": {},
          "execution_count": 4
        }
      ]
    },
    {
      "cell_type": "code",
      "source": [
        "train_mice.isna().sum()"
      ],
      "metadata": {
        "colab": {
          "base_uri": "https://localhost:8080/"
        },
        "id": "CWxYJRcZfOo_",
        "outputId": "736e3587-b117-40ba-e654-0eefd8759175"
      },
      "execution_count": 16,
      "outputs": [
        {
          "output_type": "execute_result",
          "data": {
            "text/plain": [
              "enrollee_id                  0\n",
              "gender                    4508\n",
              "enrolled_university          0\n",
              "education_level              0\n",
              "major_discipline          2813\n",
              "training_hours               0\n",
              "relevent_experience          0\n",
              "experience                   0\n",
              "last_new_job                 0\n",
              "city                         0\n",
              "city_development_index       0\n",
              "company_type              6140\n",
              "company_size                 0\n",
              "target                       0\n",
              "dtype: int64"
            ]
          },
          "metadata": {},
          "execution_count": 16
        }
      ]
    },
    {
      "cell_type": "code",
      "source": [
        "drop_major_discipline = train_mice.columns.to_list().remove('major_discipline')"
      ],
      "metadata": {
        "id": "JaWdYeCzcUv_"
      },
      "execution_count": 24,
      "outputs": []
    },
    {
      "cell_type": "code",
      "source": [
        "df_train, df_test = datawig.utils.random_split(train_mice)\n",
        "\n",
        "#Initialize a SimpleImputer model\n",
        "imputer = datawig.SimpleImputer(\n",
        "    input_columns = ['gender', 'company_type'], # column(s) containing information about the column we want to impute\n",
        "    output_column = 'major_discipline', # the column we'd like to impute values for\n",
        "    output_path = 'imputer_model' # stores model data and metrics\n",
        "    )\n",
        "\n",
        "#Fit an imputer model on the train data\n",
        "imputer.fit(train_df=df_train, num_epochs=50)\n",
        "\n",
        "#Impute missing values and return original dataframe with predictions\n",
        "imputed = imputer.predict(df_test)"
      ],
      "metadata": {
        "colab": {
          "base_uri": "https://localhost:8080/"
        },
        "id": "UCvIGzXibs7i",
        "outputId": "4f699a59-4be2-4a0f-a79a-f0e6538ac0d4"
      },
      "execution_count": 26,
      "outputs": [
        {
          "output_type": "stream",
          "name": "stderr",
          "text": [
            "2022-07-27 07:14:55,507 [INFO]  NumExpr defaulting to 2 threads.\n",
            "2022-07-27 07:14:57,399 [INFO]  \n",
            "========== start: fit model\n",
            "2022-07-27 07:14:57,400 [WARNING]  Already bound, ignoring bind()\n",
            "2022-07-27 07:15:04,326 [INFO]  Epoch[0] Batch [0-368]\tSpeed: 855.14 samples/sec\tcross-entropy=0.556179\tmajor_discipline-accuracy=0.884993\n",
            "2022-07-27 07:15:11,145 [INFO]  Epoch[0] Train-cross-entropy=0.528024\n",
            "2022-07-27 07:15:11,147 [INFO]  Epoch[0] Train-major_discipline-accuracy=0.884949\n",
            "2022-07-27 07:15:11,155 [INFO]  Epoch[0] Time cost=13.743\n",
            "2022-07-27 07:15:11,162 [INFO]  Saved checkpoint to \"imputer_model/model-0000.params\"\n",
            "2022-07-27 07:15:12,398 [INFO]  Epoch[0] Validation-cross-entropy=0.498077\n",
            "2022-07-27 07:15:12,400 [INFO]  Epoch[0] Validation-major_discipline-accuracy=0.889482\n",
            "2022-07-27 07:15:19,308 [INFO]  Epoch[1] Batch [0-368]\tSpeed: 855.82 samples/sec\tcross-entropy=0.492801\tmajor_discipline-accuracy=0.887534\n",
            "2022-07-27 07:15:28,375 [INFO]  Epoch[1] Train-cross-entropy=0.495115\n",
            "2022-07-27 07:15:28,383 [INFO]  Epoch[1] Train-major_discipline-accuracy=0.886224\n",
            "2022-07-27 07:15:28,384 [INFO]  Epoch[1] Time cost=15.977\n",
            "2022-07-27 07:15:28,397 [INFO]  Saved checkpoint to \"imputer_model/model-0001.params\"\n",
            "2022-07-27 07:15:29,931 [INFO]  Epoch[1] Validation-cross-entropy=0.497456\n",
            "2022-07-27 07:15:29,935 [INFO]  Epoch[1] Validation-major_discipline-accuracy=0.889482\n",
            "2022-07-27 07:15:38,554 [INFO]  Epoch[2] Batch [0-368]\tSpeed: 685.55 samples/sec\tcross-entropy=0.492529\tmajor_discipline-accuracy=0.887534\n",
            "2022-07-27 07:15:45,388 [INFO]  Epoch[2] Train-cross-entropy=0.494788\n",
            "2022-07-27 07:15:45,390 [INFO]  Epoch[2] Train-major_discipline-accuracy=0.886224\n",
            "2022-07-27 07:15:45,400 [INFO]  Epoch[2] Time cost=15.462\n",
            "2022-07-27 07:15:45,409 [INFO]  Saved checkpoint to \"imputer_model/model-0002.params\"\n",
            "2022-07-27 07:15:46,631 [INFO]  Epoch[2] Validation-cross-entropy=0.497322\n",
            "2022-07-27 07:15:46,638 [INFO]  Epoch[2] Validation-major_discipline-accuracy=0.889482\n",
            "2022-07-27 07:15:53,516 [INFO]  Epoch[3] Batch [0-368]\tSpeed: 859.33 samples/sec\tcross-entropy=0.492462\tmajor_discipline-accuracy=0.887534\n",
            "2022-07-27 07:16:00,335 [INFO]  Epoch[3] Train-cross-entropy=0.494702\n",
            "2022-07-27 07:16:00,343 [INFO]  Epoch[3] Train-major_discipline-accuracy=0.886224\n",
            "2022-07-27 07:16:00,350 [INFO]  Epoch[3] Time cost=13.710\n",
            "2022-07-27 07:16:00,360 [INFO]  Saved checkpoint to \"imputer_model/model-0003.params\"\n",
            "2022-07-27 07:16:01,589 [INFO]  Epoch[3] Validation-cross-entropy=0.497283\n",
            "2022-07-27 07:16:01,591 [INFO]  Epoch[3] Validation-major_discipline-accuracy=0.889482\n",
            "2022-07-27 07:16:08,450 [INFO]  Epoch[4] Batch [0-368]\tSpeed: 862.43 samples/sec\tcross-entropy=0.492425\tmajor_discipline-accuracy=0.887534\n",
            "2022-07-27 07:16:16,892 [INFO]  Epoch[4] Train-cross-entropy=0.494664\n",
            "2022-07-27 07:16:16,895 [INFO]  Epoch[4] Train-major_discipline-accuracy=0.886224\n",
            "2022-07-27 07:16:16,902 [INFO]  Epoch[4] Time cost=15.302\n",
            "2022-07-27 07:16:16,909 [INFO]  Saved checkpoint to \"imputer_model/model-0004.params\"\n",
            "2022-07-27 07:16:18,136 [INFO]  Epoch[4] Validation-cross-entropy=0.497268\n",
            "2022-07-27 07:16:18,143 [INFO]  Epoch[4] Validation-major_discipline-accuracy=0.889482\n",
            "2022-07-27 07:16:25,066 [INFO]  Epoch[5] Batch [0-368]\tSpeed: 853.27 samples/sec\tcross-entropy=0.492399\tmajor_discipline-accuracy=0.887534\n",
            "2022-07-27 07:16:31,914 [INFO]  Epoch[5] Train-cross-entropy=0.494641\n",
            "2022-07-27 07:16:31,920 [INFO]  Epoch[5] Train-major_discipline-accuracy=0.886224\n",
            "2022-07-27 07:16:31,923 [INFO]  Epoch[5] Time cost=13.778\n",
            "2022-07-27 07:16:31,933 [INFO]  Saved checkpoint to \"imputer_model/model-0005.params\"\n",
            "2022-07-27 07:16:33,176 [INFO]  Epoch[5] Validation-cross-entropy=0.497257\n",
            "2022-07-27 07:16:33,183 [INFO]  Epoch[5] Validation-major_discipline-accuracy=0.889482\n",
            "2022-07-27 07:16:40,041 [INFO]  Epoch[6] Batch [0-368]\tSpeed: 862.60 samples/sec\tcross-entropy=0.492381\tmajor_discipline-accuracy=0.887534\n",
            "2022-07-27 07:16:46,845 [INFO]  Epoch[6] Train-cross-entropy=0.494626\n",
            "2022-07-27 07:16:46,847 [INFO]  Epoch[6] Train-major_discipline-accuracy=0.886224\n",
            "2022-07-27 07:16:46,854 [INFO]  Epoch[6] Time cost=13.669\n",
            "2022-07-27 07:16:46,866 [INFO]  Saved checkpoint to \"imputer_model/model-0006.params\"\n",
            "2022-07-27 07:16:48,096 [INFO]  Epoch[6] Validation-cross-entropy=0.497246\n",
            "2022-07-27 07:16:48,098 [INFO]  Epoch[6] Validation-major_discipline-accuracy=0.889482\n",
            "2022-07-27 07:16:54,978 [INFO]  Epoch[7] Batch [0-368]\tSpeed: 859.96 samples/sec\tcross-entropy=0.492368\tmajor_discipline-accuracy=0.887534\n",
            "2022-07-27 07:17:01,820 [INFO]  Epoch[7] Train-cross-entropy=0.494615\n",
            "2022-07-27 07:17:01,823 [INFO]  Epoch[7] Train-major_discipline-accuracy=0.886224\n",
            "2022-07-27 07:17:01,829 [INFO]  Epoch[7] Time cost=13.726\n",
            "2022-07-27 07:17:01,839 [INFO]  Saved checkpoint to \"imputer_model/model-0007.params\"\n",
            "2022-07-27 07:17:03,084 [INFO]  Epoch[7] Validation-cross-entropy=0.497234\n",
            "2022-07-27 07:17:03,086 [INFO]  Epoch[7] Validation-major_discipline-accuracy=0.889482\n",
            "2022-07-27 07:17:09,962 [INFO]  Epoch[8] Batch [0-368]\tSpeed: 859.95 samples/sec\tcross-entropy=0.492359\tmajor_discipline-accuracy=0.887534\n",
            "2022-07-27 07:17:17,267 [INFO]  Epoch[8] Train-cross-entropy=0.494607\n",
            "2022-07-27 07:17:17,268 [INFO]  Epoch[8] Train-major_discipline-accuracy=0.886224\n",
            "2022-07-27 07:17:17,278 [INFO]  Epoch[8] Time cost=14.182\n",
            "2022-07-27 07:17:17,286 [INFO]  Saved checkpoint to \"imputer_model/model-0008.params\"\n",
            "2022-07-27 07:17:18,507 [INFO]  Epoch[8] Validation-cross-entropy=0.497222\n",
            "2022-07-27 07:17:18,509 [INFO]  Epoch[8] Validation-major_discipline-accuracy=0.889482\n",
            "2022-07-27 07:17:25,413 [INFO]  Epoch[9] Batch [0-368]\tSpeed: 857.06 samples/sec\tcross-entropy=0.492351\tmajor_discipline-accuracy=0.887534\n",
            "2022-07-27 07:17:32,262 [INFO]  Epoch[9] Train-cross-entropy=0.494601\n",
            "2022-07-27 07:17:32,266 [INFO]  Epoch[9] Train-major_discipline-accuracy=0.886224\n",
            "2022-07-27 07:17:32,271 [INFO]  Epoch[9] Time cost=13.755\n",
            "2022-07-27 07:17:32,279 [INFO]  Saved checkpoint to \"imputer_model/model-0009.params\"\n",
            "2022-07-27 07:17:33,513 [INFO]  Epoch[9] Validation-cross-entropy=0.497211\n",
            "2022-07-27 07:17:33,522 [INFO]  Epoch[9] Validation-major_discipline-accuracy=0.889482\n",
            "2022-07-27 07:17:40,363 [INFO]  Epoch[10] Batch [0-368]\tSpeed: 863.92 samples/sec\tcross-entropy=0.492346\tmajor_discipline-accuracy=0.887534\n",
            "2022-07-27 07:17:47,195 [INFO]  Epoch[10] Train-cross-entropy=0.494597\n",
            "2022-07-27 07:17:47,199 [INFO]  Epoch[10] Train-major_discipline-accuracy=0.886224\n",
            "2022-07-27 07:17:47,202 [INFO]  Epoch[10] Time cost=13.673\n",
            "2022-07-27 07:17:47,209 [INFO]  Saved checkpoint to \"imputer_model/model-0010.params\"\n",
            "2022-07-27 07:17:48,427 [INFO]  Epoch[10] Validation-cross-entropy=0.497201\n",
            "2022-07-27 07:17:48,429 [INFO]  Epoch[10] Validation-major_discipline-accuracy=0.889482\n",
            "2022-07-27 07:17:55,331 [INFO]  Epoch[11] Batch [0-368]\tSpeed: 856.73 samples/sec\tcross-entropy=0.492342\tmajor_discipline-accuracy=0.887534\n",
            "2022-07-27 07:18:02,147 [INFO]  Epoch[11] Train-cross-entropy=0.494593\n",
            "2022-07-27 07:18:02,149 [INFO]  Epoch[11] Train-major_discipline-accuracy=0.886224\n",
            "2022-07-27 07:18:02,162 [INFO]  Epoch[11] Time cost=13.726\n",
            "2022-07-27 07:18:02,171 [INFO]  Saved checkpoint to \"imputer_model/model-0011.params\"\n",
            "2022-07-27 07:18:03,402 [INFO]  Epoch[11] Validation-cross-entropy=0.497192\n",
            "2022-07-27 07:18:03,408 [INFO]  Epoch[11] Validation-major_discipline-accuracy=0.889482\n",
            "2022-07-27 07:18:10,301 [INFO]  Epoch[12] Batch [0-368]\tSpeed: 857.40 samples/sec\tcross-entropy=0.492339\tmajor_discipline-accuracy=0.887534\n",
            "2022-07-27 07:18:17,183 [INFO]  Epoch[12] Train-cross-entropy=0.494591\n",
            "2022-07-27 07:18:17,187 [INFO]  Epoch[12] Train-major_discipline-accuracy=0.886224\n",
            "2022-07-27 07:18:17,193 [INFO]  Epoch[12] Time cost=13.782\n",
            "2022-07-27 07:18:17,202 [INFO]  Saved checkpoint to \"imputer_model/model-0012.params\"\n",
            "2022-07-27 07:18:18,430 [INFO]  Epoch[12] Validation-cross-entropy=0.497184\n",
            "2022-07-27 07:18:18,437 [INFO]  Epoch[12] Validation-major_discipline-accuracy=0.889482\n",
            "2022-07-27 07:18:25,364 [INFO]  Epoch[13] Batch [0-368]\tSpeed: 853.20 samples/sec\tcross-entropy=0.492337\tmajor_discipline-accuracy=0.887534\n",
            "2022-07-27 07:18:33,814 [INFO]  Epoch[13] Train-cross-entropy=0.494589\n",
            "2022-07-27 07:18:33,816 [INFO]  Epoch[13] Train-major_discipline-accuracy=0.886224\n",
            "2022-07-27 07:18:33,821 [INFO]  Epoch[13] Time cost=15.381\n",
            "2022-07-27 07:18:33,830 [INFO]  Saved checkpoint to \"imputer_model/model-0013.params\"\n",
            "2022-07-27 07:18:35,038 [INFO]  Epoch[13] Validation-cross-entropy=0.497177\n",
            "2022-07-27 07:18:35,046 [INFO]  Epoch[13] Validation-major_discipline-accuracy=0.889482\n",
            "2022-07-27 07:18:41,898 [INFO]  Epoch[14] Batch [0-368]\tSpeed: 862.38 samples/sec\tcross-entropy=0.492335\tmajor_discipline-accuracy=0.887534\n",
            "2022-07-27 07:18:48,702 [INFO]  Epoch[14] Train-cross-entropy=0.494588\n",
            "2022-07-27 07:18:48,704 [INFO]  Epoch[14] Train-major_discipline-accuracy=0.886224\n",
            "2022-07-27 07:18:48,710 [INFO]  Epoch[14] Time cost=13.659\n",
            "2022-07-27 07:18:48,721 [INFO]  Saved checkpoint to \"imputer_model/model-0014.params\"\n",
            "2022-07-27 07:18:49,955 [INFO]  Epoch[14] Validation-cross-entropy=0.497172\n",
            "2022-07-27 07:18:49,958 [INFO]  Epoch[14] Validation-major_discipline-accuracy=0.889482\n",
            "2022-07-27 07:18:56,855 [INFO]  Epoch[15] Batch [0-368]\tSpeed: 857.42 samples/sec\tcross-entropy=0.492334\tmajor_discipline-accuracy=0.887534\n",
            "2022-07-27 07:19:03,695 [INFO]  Epoch[15] Train-cross-entropy=0.494587\n",
            "2022-07-27 07:19:03,697 [INFO]  Epoch[15] Train-major_discipline-accuracy=0.886224\n",
            "2022-07-27 07:19:03,705 [INFO]  Epoch[15] Time cost=13.741\n",
            "2022-07-27 07:19:03,714 [INFO]  Saved checkpoint to \"imputer_model/model-0015.params\"\n",
            "2022-07-27 07:19:04,945 [INFO]  Epoch[15] Validation-cross-entropy=0.497167\n",
            "2022-07-27 07:19:04,947 [INFO]  Epoch[15] Validation-major_discipline-accuracy=0.889482\n",
            "2022-07-27 07:19:11,865 [INFO]  Epoch[16] Batch [0-368]\tSpeed: 854.60 samples/sec\tcross-entropy=0.492333\tmajor_discipline-accuracy=0.887534\n",
            "2022-07-27 07:19:18,656 [INFO]  Epoch[16] Train-cross-entropy=0.494586\n",
            "2022-07-27 07:19:18,658 [INFO]  Epoch[16] Train-major_discipline-accuracy=0.886224\n",
            "2022-07-27 07:19:18,664 [INFO]  Epoch[16] Time cost=13.711\n",
            "2022-07-27 07:19:18,673 [INFO]  Saved checkpoint to \"imputer_model/model-0016.params\"\n",
            "2022-07-27 07:19:19,887 [INFO]  Epoch[16] Validation-cross-entropy=0.497163\n",
            "2022-07-27 07:19:19,895 [INFO]  Epoch[16] Validation-major_discipline-accuracy=0.889482\n",
            "2022-07-27 07:19:26,796 [INFO]  Epoch[17] Batch [0-368]\tSpeed: 856.36 samples/sec\tcross-entropy=0.492332\tmajor_discipline-accuracy=0.887534\n",
            "2022-07-27 07:19:33,581 [INFO]  Epoch[17] Train-cross-entropy=0.494586\n",
            "2022-07-27 07:19:33,587 [INFO]  Epoch[17] Train-major_discipline-accuracy=0.886224\n",
            "2022-07-27 07:19:33,593 [INFO]  Epoch[17] Time cost=13.692\n",
            "2022-07-27 07:19:33,603 [INFO]  Saved checkpoint to \"imputer_model/model-0017.params\"\n",
            "2022-07-27 07:19:34,816 [INFO]  Epoch[17] Validation-cross-entropy=0.497160\n",
            "2022-07-27 07:19:34,818 [INFO]  Epoch[17] Validation-major_discipline-accuracy=0.889482\n",
            "2022-07-27 07:19:41,658 [INFO]  Epoch[18] Batch [0-368]\tSpeed: 864.66 samples/sec\tcross-entropy=0.492332\tmajor_discipline-accuracy=0.887534\n",
            "2022-07-27 07:19:48,431 [INFO]  Epoch[18] Train-cross-entropy=0.494585\n",
            "2022-07-27 07:19:48,435 [INFO]  Epoch[18] Train-major_discipline-accuracy=0.886224\n",
            "2022-07-27 07:19:48,441 [INFO]  Epoch[18] Time cost=13.616\n",
            "2022-07-27 07:19:48,453 [INFO]  Saved checkpoint to \"imputer_model/model-0018.params\"\n",
            "2022-07-27 07:19:49,669 [INFO]  Epoch[18] Validation-cross-entropy=0.497158\n",
            "2022-07-27 07:19:49,672 [INFO]  Epoch[18] Validation-major_discipline-accuracy=0.889482\n",
            "2022-07-27 07:19:56,614 [INFO]  Epoch[19] Batch [0-368]\tSpeed: 851.64 samples/sec\tcross-entropy=0.492331\tmajor_discipline-accuracy=0.887534\n",
            "2022-07-27 07:20:03,494 [INFO]  Epoch[19] Train-cross-entropy=0.494585\n",
            "2022-07-27 07:20:03,501 [INFO]  Epoch[19] Train-major_discipline-accuracy=0.886224\n",
            "2022-07-27 07:20:03,503 [INFO]  Epoch[19] Time cost=13.822\n",
            "2022-07-27 07:20:03,512 [INFO]  Saved checkpoint to \"imputer_model/model-0019.params\"\n",
            "2022-07-27 07:20:04,742 [INFO]  Epoch[19] Validation-cross-entropy=0.497156\n",
            "2022-07-27 07:20:04,750 [INFO]  Epoch[19] Validation-major_discipline-accuracy=0.889482\n",
            "2022-07-27 07:20:11,642 [INFO]  Epoch[20] Batch [0-368]\tSpeed: 857.25 samples/sec\tcross-entropy=0.492330\tmajor_discipline-accuracy=0.887534\n",
            "2022-07-27 07:20:18,492 [INFO]  Epoch[20] Train-cross-entropy=0.494585\n",
            "2022-07-27 07:20:18,494 [INFO]  Epoch[20] Train-major_discipline-accuracy=0.886224\n",
            "2022-07-27 07:20:18,501 [INFO]  Epoch[20] Time cost=13.750\n",
            "2022-07-27 07:20:18,514 [INFO]  Saved checkpoint to \"imputer_model/model-0020.params\"\n",
            "2022-07-27 07:20:19,740 [INFO]  Epoch[20] Validation-cross-entropy=0.497155\n",
            "2022-07-27 07:20:19,744 [INFO]  Epoch[20] Validation-major_discipline-accuracy=0.889482\n",
            "2022-07-27 07:20:26,666 [INFO]  Epoch[21] Batch [0-368]\tSpeed: 853.79 samples/sec\tcross-entropy=0.492330\tmajor_discipline-accuracy=0.887534\n",
            "2022-07-27 07:20:33,475 [INFO]  Epoch[21] Train-cross-entropy=0.494585\n",
            "2022-07-27 07:20:33,487 [INFO]  Epoch[21] Train-major_discipline-accuracy=0.886224\n",
            "2022-07-27 07:20:33,491 [INFO]  Epoch[21] Time cost=13.742\n",
            "2022-07-27 07:20:33,498 [INFO]  Saved checkpoint to \"imputer_model/model-0021.params\"\n",
            "2022-07-27 07:20:34,724 [INFO]  Epoch[21] Validation-cross-entropy=0.497154\n",
            "2022-07-27 07:20:34,727 [INFO]  Epoch[21] Validation-major_discipline-accuracy=0.889482\n",
            "2022-07-27 07:20:41,590 [INFO]  Epoch[22] Batch [0-368]\tSpeed: 861.38 samples/sec\tcross-entropy=0.492330\tmajor_discipline-accuracy=0.887534\n",
            "2022-07-27 07:20:49,793 [INFO]  Epoch[22] Train-cross-entropy=0.494584\n",
            "2022-07-27 07:20:49,797 [INFO]  Epoch[22] Train-major_discipline-accuracy=0.886224\n",
            "2022-07-27 07:20:49,798 [INFO]  Epoch[22] Time cost=15.066\n",
            "2022-07-27 07:20:49,815 [INFO]  Saved checkpoint to \"imputer_model/model-0022.params\"\n",
            "2022-07-27 07:20:51,253 [INFO]  Epoch[22] Validation-cross-entropy=0.497153\n",
            "2022-07-27 07:20:51,255 [INFO]  Epoch[22] Validation-major_discipline-accuracy=0.889482\n",
            "2022-07-27 07:20:58,125 [INFO]  Epoch[23] Batch [0-368]\tSpeed: 860.80 samples/sec\tcross-entropy=0.492329\tmajor_discipline-accuracy=0.887534\n",
            "2022-07-27 07:21:04,935 [INFO]  Epoch[23] Train-cross-entropy=0.494584\n",
            "2022-07-27 07:21:04,937 [INFO]  Epoch[23] Train-major_discipline-accuracy=0.886224\n",
            "2022-07-27 07:21:04,942 [INFO]  Epoch[23] Time cost=13.681\n",
            "2022-07-27 07:21:04,948 [INFO]  Saved checkpoint to \"imputer_model/model-0023.params\"\n",
            "2022-07-27 07:21:06,196 [INFO]  Epoch[23] Validation-cross-entropy=0.497153\n",
            "2022-07-27 07:21:06,205 [INFO]  Epoch[23] Validation-major_discipline-accuracy=0.889482\n",
            "2022-07-27 07:21:14,016 [INFO]  Epoch[24] Batch [0-368]\tSpeed: 756.31 samples/sec\tcross-entropy=0.492329\tmajor_discipline-accuracy=0.887534\n",
            "2022-07-27 07:21:25,044 [INFO]  Epoch[24] Train-cross-entropy=0.494584\n",
            "2022-07-27 07:21:25,046 [INFO]  Epoch[24] Train-major_discipline-accuracy=0.886224\n",
            "2022-07-27 07:21:25,055 [INFO]  Epoch[24] Time cost=18.849\n",
            "2022-07-27 07:21:25,064 [INFO]  Saved checkpoint to \"imputer_model/model-0024.params\"\n",
            "2022-07-27 07:21:26,883 [INFO]  Epoch[24] Validation-cross-entropy=0.497152\n",
            "2022-07-27 07:21:26,892 [INFO]  Epoch[24] Validation-major_discipline-accuracy=0.889482\n",
            "2022-07-27 07:21:37,652 [INFO]  Epoch[25] Batch [0-368]\tSpeed: 549.17 samples/sec\tcross-entropy=0.492329\tmajor_discipline-accuracy=0.887534\n",
            "2022-07-27 07:21:46,988 [INFO]  Epoch[25] Train-cross-entropy=0.494584\n",
            "2022-07-27 07:21:46,991 [INFO]  Epoch[25] Train-major_discipline-accuracy=0.886224\n",
            "2022-07-27 07:21:46,992 [INFO]  Epoch[25] Time cost=20.093\n",
            "2022-07-27 07:21:47,017 [INFO]  Saved checkpoint to \"imputer_model/model-0025.params\"\n",
            "2022-07-27 07:21:48,280 [INFO]  Epoch[25] Validation-cross-entropy=0.497152\n",
            "2022-07-27 07:21:48,289 [INFO]  Epoch[25] Validation-major_discipline-accuracy=0.889482\n",
            "2022-07-27 07:21:56,182 [INFO]  Epoch[26] Batch [0-368]\tSpeed: 748.18 samples/sec\tcross-entropy=0.492328\tmajor_discipline-accuracy=0.887534\n",
            "2022-07-27 07:22:07,142 [INFO]  Epoch[26] Train-cross-entropy=0.494584\n",
            "2022-07-27 07:22:07,146 [INFO]  Epoch[26] Train-major_discipline-accuracy=0.886224\n",
            "2022-07-27 07:22:07,147 [INFO]  Epoch[26] Time cost=18.856\n",
            "2022-07-27 07:22:07,163 [INFO]  Saved checkpoint to \"imputer_model/model-0026.params\"\n",
            "2022-07-27 07:22:09,142 [INFO]  Epoch[26] Validation-cross-entropy=0.497152\n",
            "2022-07-27 07:22:09,145 [INFO]  Epoch[26] Validation-major_discipline-accuracy=0.889482\n",
            "2022-07-27 07:22:20,117 [INFO]  Epoch[27] Batch [0-368]\tSpeed: 538.26 samples/sec\tcross-entropy=0.492328\tmajor_discipline-accuracy=0.887534\n",
            "2022-07-27 07:22:32,143 [INFO]  Epoch[27] Train-cross-entropy=0.494584\n",
            "2022-07-27 07:22:32,150 [INFO]  Epoch[27] Train-major_discipline-accuracy=0.886224\n",
            "2022-07-27 07:22:32,159 [INFO]  Epoch[27] Time cost=23.013\n",
            "2022-07-27 07:22:32,180 [INFO]  Saved checkpoint to \"imputer_model/model-0027.params\"\n",
            "2022-07-27 07:22:34,999 [INFO]  Epoch[27] Validation-cross-entropy=0.497152\n",
            "2022-07-27 07:22:35,001 [INFO]  Epoch[27] Validation-major_discipline-accuracy=0.889482\n",
            "2022-07-27 07:22:49,422 [INFO]  Epoch[28] Batch [0-368]\tSpeed: 409.44 samples/sec\tcross-entropy=0.492328\tmajor_discipline-accuracy=0.887534\n",
            "2022-07-27 07:22:58,662 [INFO]  Epoch[28] Train-cross-entropy=0.494584\n",
            "2022-07-27 07:22:58,666 [INFO]  Epoch[28] Train-major_discipline-accuracy=0.886224\n",
            "2022-07-27 07:22:58,670 [INFO]  Epoch[28] Time cost=23.662\n",
            "2022-07-27 07:22:58,688 [INFO]  Saved checkpoint to \"imputer_model/model-0028.params\"\n",
            "2022-07-27 07:22:59,922 [INFO]  Epoch[28] Validation-cross-entropy=0.497153\n",
            "2022-07-27 07:22:59,924 [INFO]  Epoch[28] Validation-major_discipline-accuracy=0.889482\n",
            "2022-07-27 07:23:10,468 [INFO]  Epoch[29] Batch [0-368]\tSpeed: 560.14 samples/sec\tcross-entropy=0.492328\tmajor_discipline-accuracy=0.887534\n",
            "2022-07-27 07:23:19,943 [INFO]  Epoch[29] Train-cross-entropy=0.494584\n",
            "2022-07-27 07:23:19,946 [INFO]  Epoch[29] Train-major_discipline-accuracy=0.886224\n",
            "2022-07-27 07:23:19,954 [INFO]  Epoch[29] Time cost=20.022\n",
            "2022-07-27 07:23:19,964 [INFO]  Saved checkpoint to \"imputer_model/model-0029.params\"\n",
            "2022-07-27 07:23:21,944 [INFO]  Epoch[29] Validation-cross-entropy=0.497153\n",
            "2022-07-27 07:23:21,952 [INFO]  Epoch[29] Validation-major_discipline-accuracy=0.889482\n",
            "2022-07-27 07:23:29,177 [INFO]  Epoch[30] Batch [0-368]\tSpeed: 819.67 samples/sec\tcross-entropy=0.492327\tmajor_discipline-accuracy=0.887534\n",
            "2022-07-27 07:23:36,024 [INFO]  Epoch[30] Train-cross-entropy=0.494584\n",
            "2022-07-27 07:23:36,032 [INFO]  Epoch[30] Train-major_discipline-accuracy=0.886224\n",
            "2022-07-27 07:23:36,033 [INFO]  Epoch[30] Time cost=14.077\n",
            "2022-07-27 07:23:36,047 [INFO]  Saved checkpoint to \"imputer_model/model-0030.params\"\n",
            "2022-07-27 07:23:37,289 [INFO]  Epoch[30] Validation-cross-entropy=0.497153\n",
            "2022-07-27 07:23:37,293 [INFO]  Epoch[30] Validation-major_discipline-accuracy=0.889482\n",
            "2022-07-27 07:23:44,208 [INFO]  Epoch[31] Batch [0-368]\tSpeed: 854.78 samples/sec\tcross-entropy=0.492327\tmajor_discipline-accuracy=0.887534\n",
            "2022-07-27 07:23:52,151 [INFO]  Epoch[31] Train-cross-entropy=0.494584\n",
            "2022-07-27 07:23:52,155 [INFO]  Epoch[31] Train-major_discipline-accuracy=0.886224\n",
            "2022-07-27 07:23:52,166 [INFO]  Epoch[31] Time cost=14.868\n",
            "2022-07-27 07:23:52,174 [INFO]  Saved checkpoint to \"imputer_model/model-0031.params\"\n",
            "2022-07-27 07:23:53,402 [INFO]  No improvement detected for 5 epochs compared to 0.49715235138811714 last error obtained: 0.49715303684153206, stopping here\n",
            "2022-07-27 07:23:53,410 [INFO]  \n",
            "========== done (536.0125200748444 s) fit model\n",
            "/usr/local/lib/python3.7/dist-packages/sklearn/metrics/_classification.py:1272: UndefinedMetricWarning: Precision is ill-defined and being set to 0.0 in labels with no predicted samples. Use `zero_division` parameter to control this behavior.\n",
            "  _warn_prf(average, modifier, msg_start, len(result))\n"
          ]
        }
      ]
    },
    {
      "cell_type": "code",
      "source": [
        "df_test.isna().sum()"
      ],
      "metadata": {
        "colab": {
          "base_uri": "https://localhost:8080/"
        },
        "id": "JNZLMtZsgpN_",
        "outputId": "c409185c-b5d5-462c-85f9-7dd2f6dfa1b5"
      },
      "execution_count": 30,
      "outputs": [
        {
          "output_type": "execute_result",
          "data": {
            "text/plain": [
              "enrollee_id                  0\n",
              "gender                     912\n",
              "enrolled_university          0\n",
              "education_level              0\n",
              "major_discipline           555\n",
              "training_hours               0\n",
              "relevent_experience          0\n",
              "experience                   0\n",
              "last_new_job                 0\n",
              "city                         0\n",
              "city_development_index       0\n",
              "company_type              1230\n",
              "company_size                 0\n",
              "target                       0\n",
              "dtype: int64"
            ]
          },
          "metadata": {},
          "execution_count": 30
        }
      ]
    },
    {
      "cell_type": "code",
      "source": [
        ""
      ],
      "metadata": {
        "id": "sbZyc8jujd2V"
      },
      "execution_count": null,
      "outputs": []
    },
    {
      "cell_type": "code",
      "source": [
        "train_mice_num = train_mice[train_mice.columns.difference(['gender', 'company_type', 'city', 'enrollee_id', 'target'])]"
      ],
      "metadata": {
        "id": "cH3LgtUsjd4s"
      },
      "execution_count": 58,
      "outputs": []
    },
    {
      "cell_type": "code",
      "source": [
        "a = train_mice_num[train_mice_num.columns.difference(['major_discipline'])].applymap(str)\n",
        "# train_mice_str=train_mice.applymap(str)"
      ],
      "metadata": {
        "id": "e862uRXSjmuE"
      },
      "execution_count": 61,
      "outputs": []
    },
    {
      "cell_type": "code",
      "source": [
        "result1 = pd.concat([a, train_mice['major_discipline']], axis=1)"
      ],
      "metadata": {
        "id": "V_u8WdEHksOo"
      },
      "execution_count": 67,
      "outputs": []
    },
    {
      "cell_type": "code",
      "source": [
        "result1.info()"
      ],
      "metadata": {
        "colab": {
          "base_uri": "https://localhost:8080/"
        },
        "id": "-x6idPOelbkB",
        "outputId": "26fa9854-586a-4588-c493-e4870a5d6441"
      },
      "execution_count": 69,
      "outputs": [
        {
          "output_type": "stream",
          "name": "stdout",
          "text": [
            "<class 'pandas.core.frame.DataFrame'>\n",
            "RangeIndex: 19158 entries, 0 to 19157\n",
            "Data columns (total 9 columns):\n",
            "city_development_index    19158 non-null object\n",
            "company_size              19158 non-null object\n",
            "education_level           19158 non-null object\n",
            "enrolled_university       19158 non-null object\n",
            "experience                19158 non-null object\n",
            "last_new_job              19158 non-null object\n",
            "relevent_experience       19158 non-null object\n",
            "training_hours            19158 non-null object\n",
            "major_discipline          16345 non-null object\n",
            "dtypes: object(9)\n",
            "memory usage: 1.3+ MB\n"
          ]
        }
      ]
    },
    {
      "cell_type": "code",
      "source": [
        "result1.columns"
      ],
      "metadata": {
        "colab": {
          "base_uri": "https://localhost:8080/"
        },
        "id": "1MsvvdoImHki",
        "outputId": "4f3fd92a-29e7-4df5-9efd-2180f3ed3e08"
      },
      "execution_count": 80,
      "outputs": [
        {
          "output_type": "execute_result",
          "data": {
            "text/plain": [
              "Index(['city_development_index', 'company_size', 'education_level',\n",
              "       'enrolled_university', 'experience', 'last_new_job',\n",
              "       'relevent_experience', 'training_hours', 'major_discipline'],\n",
              "      dtype='object')"
            ]
          },
          "metadata": {},
          "execution_count": 80
        }
      ]
    },
    {
      "cell_type": "code",
      "source": [
        "drop_cat = result1.columns.to_list()\n",
        "drop_cat.remove('major_discipline')"
      ],
      "metadata": {
        "id": "SKWzZTxBjd9P"
      },
      "execution_count": 87,
      "outputs": []
    },
    {
      "cell_type": "code",
      "source": [
        "drop_cat"
      ],
      "metadata": {
        "colab": {
          "base_uri": "https://localhost:8080/"
        },
        "id": "E60UamPdmE8q",
        "outputId": "514c2afb-4497-45d4-ce67-6a5c4e17dcbc"
      },
      "execution_count": 88,
      "outputs": [
        {
          "output_type": "execute_result",
          "data": {
            "text/plain": [
              "['city_development_index',\n",
              " 'company_size',\n",
              " 'education_level',\n",
              " 'enrolled_university',\n",
              " 'experience',\n",
              " 'last_new_job',\n",
              " 'relevent_experience',\n",
              " 'training_hours']"
            ]
          },
          "metadata": {},
          "execution_count": 88
        }
      ]
    },
    {
      "cell_type": "code",
      "source": [
        ""
      ],
      "metadata": {
        "id": "lc9t7OJZpVkT"
      },
      "execution_count": null,
      "outputs": []
    },
    {
      "cell_type": "code",
      "source": [
        "df_train2, df_test2 = datawig.utils.random_split(result1)\n",
        "#Initialize a SimpleImputer model\n",
        "imputer = datawig.SimpleImputer(\n",
        "    input_columns = drop_cat, # column(s) containing information about the column we want to impute\n",
        "    output_column = 'major_discipline', # the column we'd like to impute values for\n",
        "    output_path = 'imputer_model' # stores model data and metrics\n",
        "    )\n",
        "\n",
        "#Fit an imputer model on the train data\n",
        "imputer.fit(train_df=df_train2, num_epochs=50)\n",
        "\n",
        "#Impute missing values and return original dataframe with predictions\n",
        "imputed = imputer.predict(df_test2)"
      ],
      "metadata": {
        "colab": {
          "base_uri": "https://localhost:8080/"
        },
        "id": "PDmfTxUjbtAx",
        "outputId": "679c6bee-ffe3-4e98-c677-66aae4c14d28"
      },
      "execution_count": 89,
      "outputs": [
        {
          "output_type": "stream",
          "name": "stderr",
          "text": [
            "INFO:root:\n",
            "========== start: fit model\n",
            "WARNING:root:Already bound, ignoring bind()\n",
            "INFO:root:Epoch[0] Batch [0-368]\tSpeed: 563.16 samples/sec\tcross-entropy=0.532931\tmajor_discipline-accuracy=0.884993\n",
            "INFO:root:Epoch[0] Train-cross-entropy=0.512501\n",
            "INFO:root:Epoch[0] Train-major_discipline-accuracy=0.884949\n",
            "INFO:root:Epoch[0] Time cost=20.801\n",
            "INFO:root:Saved checkpoint to \"imputer_model/model-0000.params\"\n",
            "INFO:root:Epoch[0] Validation-cross-entropy=0.491264\n",
            "INFO:root:Epoch[0] Validation-major_discipline-accuracy=0.889482\n",
            "INFO:root:Epoch[1] Batch [0-368]\tSpeed: 791.97 samples/sec\tcross-entropy=0.471339\tmajor_discipline-accuracy=0.887534\n",
            "INFO:root:Epoch[1] Train-cross-entropy=0.474424\n",
            "INFO:root:Epoch[1] Train-major_discipline-accuracy=0.886224\n",
            "INFO:root:Epoch[1] Time cost=14.232\n",
            "INFO:root:Saved checkpoint to \"imputer_model/model-0001.params\"\n",
            "INFO:root:Epoch[1] Validation-cross-entropy=0.484541\n",
            "INFO:root:Epoch[1] Validation-major_discipline-accuracy=0.889482\n",
            "INFO:root:Epoch[2] Batch [0-368]\tSpeed: 863.39 samples/sec\tcross-entropy=0.460559\tmajor_discipline-accuracy=0.887534\n",
            "INFO:root:Epoch[2] Train-cross-entropy=0.464668\n",
            "INFO:root:Epoch[2] Train-major_discipline-accuracy=0.886224\n",
            "INFO:root:Epoch[2] Time cost=13.608\n",
            "INFO:root:Saved checkpoint to \"imputer_model/model-0002.params\"\n",
            "INFO:root:Epoch[2] Validation-cross-entropy=0.482064\n",
            "INFO:root:Epoch[2] Validation-major_discipline-accuracy=0.889482\n",
            "INFO:root:Epoch[3] Batch [0-368]\tSpeed: 865.72 samples/sec\tcross-entropy=0.453456\tmajor_discipline-accuracy=0.887534\n",
            "INFO:root:Epoch[3] Train-cross-entropy=0.457868\n",
            "INFO:root:Epoch[3] Train-major_discipline-accuracy=0.886224\n",
            "INFO:root:Epoch[3] Time cost=13.621\n",
            "INFO:root:Saved checkpoint to \"imputer_model/model-0003.params\"\n",
            "INFO:root:Epoch[3] Validation-cross-entropy=0.481338\n",
            "INFO:root:Epoch[3] Validation-major_discipline-accuracy=0.889482\n",
            "INFO:root:Epoch[4] Batch [0-368]\tSpeed: 864.67 samples/sec\tcross-entropy=0.448061\tmajor_discipline-accuracy=0.887534\n",
            "INFO:root:Epoch[4] Train-cross-entropy=0.452554\n",
            "INFO:root:Epoch[4] Train-major_discipline-accuracy=0.886224\n",
            "INFO:root:Epoch[4] Time cost=13.571\n",
            "INFO:root:Saved checkpoint to \"imputer_model/model-0004.params\"\n",
            "INFO:root:Epoch[4] Validation-cross-entropy=0.481547\n",
            "INFO:root:Epoch[4] Validation-major_discipline-accuracy=0.889482\n",
            "INFO:root:Epoch[5] Batch [0-368]\tSpeed: 867.65 samples/sec\tcross-entropy=0.443691\tmajor_discipline-accuracy=0.887534\n",
            "INFO:root:Epoch[5] Train-cross-entropy=0.448177\n",
            "INFO:root:Epoch[5] Train-major_discipline-accuracy=0.886224\n",
            "INFO:root:Epoch[5] Time cost=13.567\n",
            "INFO:root:Saved checkpoint to \"imputer_model/model-0005.params\"\n",
            "INFO:root:Epoch[5] Validation-cross-entropy=0.482332\n",
            "INFO:root:Epoch[5] Validation-major_discipline-accuracy=0.889482\n",
            "INFO:root:Epoch[6] Batch [0-368]\tSpeed: 815.91 samples/sec\tcross-entropy=0.440027\tmajor_discipline-accuracy=0.887534\n",
            "INFO:root:Epoch[6] Train-cross-entropy=0.444463\n",
            "INFO:root:Epoch[6] Train-major_discipline-accuracy=0.886224\n",
            "INFO:root:Epoch[6] Time cost=13.997\n",
            "INFO:root:Saved checkpoint to \"imputer_model/model-0006.params\"\n",
            "INFO:root:Epoch[6] Validation-cross-entropy=0.483499\n",
            "INFO:root:Epoch[6] Validation-major_discipline-accuracy=0.889482\n",
            "INFO:root:Epoch[7] Batch [0-368]\tSpeed: 871.73 samples/sec\tcross-entropy=0.436886\tmajor_discipline-accuracy=0.887534\n",
            "INFO:root:Epoch[7] Train-cross-entropy=0.441250\n",
            "INFO:root:Epoch[7] Train-major_discipline-accuracy=0.886224\n",
            "INFO:root:Epoch[7] Time cost=13.636\n",
            "INFO:root:Saved checkpoint to \"imputer_model/model-0007.params\"\n",
            "INFO:root:Epoch[7] Validation-cross-entropy=0.484932\n",
            "INFO:root:Epoch[7] Validation-major_discipline-accuracy=0.889482\n",
            "INFO:root:Epoch[8] Batch [0-368]\tSpeed: 862.55 samples/sec\tcross-entropy=0.434150\tmajor_discipline-accuracy=0.887703\n",
            "INFO:root:Epoch[8] Train-cross-entropy=0.438429\n",
            "INFO:root:Epoch[8] Train-major_discipline-accuracy=0.886310\n",
            "INFO:root:Epoch[8] Time cost=13.638\n",
            "INFO:root:Saved checkpoint to \"imputer_model/model-0008.params\"\n",
            "INFO:root:No improvement detected for 5 epochs compared to 0.4813384415536392 last error obtained: 0.486555426949408, stopping here\n",
            "INFO:root:\n",
            "========== done (142.3300540447235 s) fit model\n",
            "/usr/local/lib/python3.7/dist-packages/sklearn/metrics/_classification.py:1272: UndefinedMetricWarning: Precision is ill-defined and being set to 0.0 in labels with no predicted samples. Use `zero_division` parameter to control this behavior.\n",
            "  _warn_prf(average, modifier, msg_start, len(result))\n"
          ]
        }
      ]
    },
    {
      "cell_type": "code",
      "source": [
        "df_test2.isna().sum()"
      ],
      "metadata": {
        "colab": {
          "base_uri": "https://localhost:8080/"
        },
        "id": "It7c6aSvmiso",
        "outputId": "a4ac3307-20b0-4216-d522-ddfc0abd3c1f"
      },
      "execution_count": 90,
      "outputs": [
        {
          "output_type": "execute_result",
          "data": {
            "text/plain": [
              "city_development_index      0\n",
              "company_size                0\n",
              "education_level             0\n",
              "enrolled_university         0\n",
              "experience                  0\n",
              "last_new_job                0\n",
              "relevent_experience         0\n",
              "training_hours              0\n",
              "major_discipline          555\n",
              "dtype: int64"
            ]
          },
          "metadata": {},
          "execution_count": 90
        }
      ]
    },
    {
      "cell_type": "code",
      "source": [
        "print(\"어서오세요~\")"
      ],
      "metadata": {
        "colab": {
          "base_uri": "https://localhost:8080/"
        },
        "id": "XGBRRxkHbtDn",
        "outputId": "03f454c5-6431-46a2-baac-b22ef4b1f75b"
      },
      "execution_count": 91,
      "outputs": [
        {
          "output_type": "stream",
          "name": "stdout",
          "text": [
            "어서오세요~\n"
          ]
        }
      ]
    },
    {
      "cell_type": "code",
      "source": [
        ""
      ],
      "metadata": {
        "id": "cgCsyG-hmlJa"
      },
      "execution_count": null,
      "outputs": []
    },
    {
      "cell_type": "code",
      "source": [
        "train_mice_num.info()"
      ],
      "metadata": {
        "colab": {
          "base_uri": "https://localhost:8080/"
        },
        "id": "pX8jRz6YmlLz",
        "outputId": "3ef3c9a5-193f-49a7-c6c2-1f71f6d54582"
      },
      "execution_count": 93,
      "outputs": [
        {
          "output_type": "stream",
          "name": "stdout",
          "text": [
            "<class 'pandas.core.frame.DataFrame'>\n",
            "RangeIndex: 19158 entries, 0 to 19157\n",
            "Data columns (total 9 columns):\n",
            "city_development_index    19158 non-null float64\n",
            "company_size              19158 non-null float64\n",
            "education_level           19158 non-null float64\n",
            "enrolled_university       19158 non-null float64\n",
            "experience                19158 non-null float64\n",
            "last_new_job              19158 non-null float64\n",
            "major_discipline          16345 non-null object\n",
            "relevent_experience       19158 non-null int64\n",
            "training_hours            19158 non-null int64\n",
            "dtypes: float64(6), int64(2), object(1)\n",
            "memory usage: 1.3+ MB\n"
          ]
        }
      ]
    },
    {
      "cell_type": "code",
      "source": [
        "df_test2.info()"
      ],
      "metadata": {
        "colab": {
          "base_uri": "https://localhost:8080/"
        },
        "id": "IsMrEhAnpAd9",
        "outputId": "f27a223f-f528-41ba-ccdb-584183e50081"
      },
      "execution_count": 96,
      "outputs": [
        {
          "output_type": "stream",
          "name": "stdout",
          "text": [
            "<class 'pandas.core.frame.DataFrame'>\n",
            "Int64Index: 3831 entries, 447 to 7293\n",
            "Data columns (total 9 columns):\n",
            "city_development_index    3831 non-null object\n",
            "company_size              3831 non-null object\n",
            "education_level           3831 non-null object\n",
            "enrolled_university       3831 non-null object\n",
            "experience                3831 non-null object\n",
            "last_new_job              3831 non-null object\n",
            "relevent_experience       3831 non-null object\n",
            "training_hours            3831 non-null object\n",
            "major_discipline          3276 non-null object\n",
            "dtypes: object(9)\n",
            "memory usage: 299.3+ KB\n"
          ]
        }
      ]
    },
    {
      "cell_type": "code",
      "source": [
        "df_train3, df_test3 = datawig.utils.random_split(train_mice_num)\n",
        "#Initialize a SimpleImputer model\n",
        "imputer = datawig.SimpleImputer(\n",
        "    input_columns = drop_cat, # column(s) containing information about the column we want to impute\n",
        "    output_column = 'major_discipline', # the column we'd like to impute values for\n",
        "    output_path = 'imputer_model' # stores model data and metrics\n",
        "    )\n",
        "\n",
        "#Fit an imputer model on the train data\n",
        "imputer.fit(train_df=df_train3, num_epochs=50)\n",
        "\n",
        "#Impute missing values and return original dataframe with predictions\n",
        "imputed = imputer.predict(df_test3)"
      ],
      "metadata": {
        "colab": {
          "base_uri": "https://localhost:8080/"
        },
        "id": "stScWT5ZmlOd",
        "outputId": "2c39b6e3-bec9-4cac-be72-3487eaab14a9"
      },
      "execution_count": 94,
      "outputs": [
        {
          "output_type": "stream",
          "name": "stderr",
          "text": [
            "/usr/local/lib/python3.7/dist-packages/pandas/core/frame.py:3509: SettingWithCopyWarning: \n",
            "A value is trying to be set on a copy of a slice from a DataFrame.\n",
            "Try using .loc[row_indexer,col_indexer] = value instead\n",
            "\n",
            "See the caveats in the documentation: http://pandas.pydata.org/pandas-docs/stable/user_guide/indexing.html#returning-a-view-versus-a-copy\n",
            "  self[k1] = value[k2]\n",
            "/usr/local/lib/python3.7/dist-packages/sklearn/metrics/_classification.py:1272: UndefinedMetricWarning: Precision is ill-defined and being set to 0.0 in labels with no predicted samples. Use `zero_division` parameter to control this behavior.\n",
            "  _warn_prf(average, modifier, msg_start, len(result))\n"
          ]
        }
      ]
    },
    {
      "cell_type": "code",
      "source": [
        "df_test3.isna.sum()"
      ],
      "metadata": {
        "id": "ZQ-DBxWZmlQ_"
      },
      "execution_count": null,
      "outputs": []
    },
    {
      "cell_type": "code",
      "source": [
        ""
      ],
      "metadata": {
        "id": "8mr7Dk_XmlTj"
      },
      "execution_count": null,
      "outputs": []
    },
    {
      "cell_type": "code",
      "source": [
        ""
      ],
      "metadata": {
        "id": "Pk42EnwYmlWW"
      },
      "execution_count": null,
      "outputs": []
    },
    {
      "cell_type": "code",
      "source": [
        ""
      ],
      "metadata": {
        "id": "ZrMHlEMjmlZD"
      },
      "execution_count": null,
      "outputs": []
    },
    {
      "cell_type": "code",
      "source": [
        ""
      ],
      "metadata": {
        "id": "IojASC1nmlbt"
      },
      "execution_count": null,
      "outputs": []
    },
    {
      "cell_type": "code",
      "source": [
        ""
      ],
      "metadata": {
        "id": "2D-QYdBYbtF0"
      },
      "execution_count": null,
      "outputs": []
    },
    {
      "cell_type": "code",
      "source": [
        "train = train_raw\n",
        "train=train[['enrollee_id', 'gender', 'enrolled_university', 'education_level', \n",
        "            'major_discipline', 'training_hours', 'relevent_experience', 'experience', \n",
        "            'last_new_job', 'city', 'city_development_index', 'company_type', 'company_size', 'target']]\n",
        "train.head(10)"
      ],
      "metadata": {
        "colab": {
          "base_uri": "https://localhost:8080/",
          "height": 427
        },
        "id": "DLwmP7zxEWfC",
        "outputId": "54d5debb-8a0b-450e-d7a9-72e35f63e221"
      },
      "execution_count": null,
      "outputs": [
        {
          "output_type": "execute_result",
          "data": {
            "text/plain": [
              "   enrollee_id  gender enrolled_university education_level major_discipline  \\\n",
              "0         7041    Male       no_enrollment        Graduate       Humanities   \n",
              "1        29117     NaN    Full time course        Graduate             STEM   \n",
              "2        30937  Female    Part time course        Graduate             STEM   \n",
              "3        25290     NaN       no_enrollment     High School              NaN   \n",
              "4        10481     NaN    Full time course        Graduate  Business Degree   \n",
              "5        24226  Female       no_enrollment        Graduate             STEM   \n",
              "6        17783    Male    Full time course        Graduate             STEM   \n",
              "7        17941     NaN       no_enrollment         Masters  Business Degree   \n",
              "8        20653    Male    Full time course        Graduate             STEM   \n",
              "9        15297     NaN    Full time course             NaN              NaN   \n",
              "\n",
              "   training_hours      relevent_experience experience last_new_job      city  \\\n",
              "0              65  Has relevent experience         <1            1   city_40   \n",
              "1              12   No relevent experience         <1           <1   city_11   \n",
              "2              83   No relevent experience         <1            2   city_57   \n",
              "3              29  Has relevent experience         <1            1  city_173   \n",
              "4             214   No relevent experience         <1           <1  city_102   \n",
              "5              13  Has relevent experience         <1            1   city_21   \n",
              "6              11  Has relevent experience         <1            2   city_65   \n",
              "7              18   No relevent experience         <1            1   city_21   \n",
              "8              44   No relevent experience         <1            1   city_16   \n",
              "9              34   No relevent experience         <1           <1  city_103   \n",
              "\n",
              "   city_development_index company_type company_size  target  \n",
              "0                   0.776      Pvt Ltd    1000-4999       0  \n",
              "1                   0.550          NaN          NaN       0  \n",
              "2                   0.866      Pvt Ltd        10/49       0  \n",
              "3                   0.878      Pvt Ltd      100-500       0  \n",
              "4                   0.804          NaN          NaN       0  \n",
              "5                   0.624      Pvt Ltd        50-99       0  \n",
              "6                   0.802      Pvt Ltd       10000+       0  \n",
              "7                   0.624      Pvt Ltd       10000+       0  \n",
              "8                   0.910          NaN          NaN       0  \n",
              "9                   0.920          NaN          NaN       0  "
            ],
            "text/html": [
              "\n",
              "  <div id=\"df-99fc3206-978e-4cb8-8a07-3d0af9077df3\">\n",
              "    <div class=\"colab-df-container\">\n",
              "      <div>\n",
              "<style scoped>\n",
              "    .dataframe tbody tr th:only-of-type {\n",
              "        vertical-align: middle;\n",
              "    }\n",
              "\n",
              "    .dataframe tbody tr th {\n",
              "        vertical-align: top;\n",
              "    }\n",
              "\n",
              "    .dataframe thead th {\n",
              "        text-align: right;\n",
              "    }\n",
              "</style>\n",
              "<table border=\"1\" class=\"dataframe\">\n",
              "  <thead>\n",
              "    <tr style=\"text-align: right;\">\n",
              "      <th></th>\n",
              "      <th>enrollee_id</th>\n",
              "      <th>gender</th>\n",
              "      <th>enrolled_university</th>\n",
              "      <th>education_level</th>\n",
              "      <th>major_discipline</th>\n",
              "      <th>training_hours</th>\n",
              "      <th>relevent_experience</th>\n",
              "      <th>experience</th>\n",
              "      <th>last_new_job</th>\n",
              "      <th>city</th>\n",
              "      <th>city_development_index</th>\n",
              "      <th>company_type</th>\n",
              "      <th>company_size</th>\n",
              "      <th>target</th>\n",
              "    </tr>\n",
              "  </thead>\n",
              "  <tbody>\n",
              "    <tr>\n",
              "      <th>0</th>\n",
              "      <td>7041</td>\n",
              "      <td>Male</td>\n",
              "      <td>no_enrollment</td>\n",
              "      <td>Graduate</td>\n",
              "      <td>Humanities</td>\n",
              "      <td>65</td>\n",
              "      <td>Has relevent experience</td>\n",
              "      <td>&lt;1</td>\n",
              "      <td>1</td>\n",
              "      <td>city_40</td>\n",
              "      <td>0.776</td>\n",
              "      <td>Pvt Ltd</td>\n",
              "      <td>1000-4999</td>\n",
              "      <td>0</td>\n",
              "    </tr>\n",
              "    <tr>\n",
              "      <th>1</th>\n",
              "      <td>29117</td>\n",
              "      <td>NaN</td>\n",
              "      <td>Full time course</td>\n",
              "      <td>Graduate</td>\n",
              "      <td>STEM</td>\n",
              "      <td>12</td>\n",
              "      <td>No relevent experience</td>\n",
              "      <td>&lt;1</td>\n",
              "      <td>&lt;1</td>\n",
              "      <td>city_11</td>\n",
              "      <td>0.550</td>\n",
              "      <td>NaN</td>\n",
              "      <td>NaN</td>\n",
              "      <td>0</td>\n",
              "    </tr>\n",
              "    <tr>\n",
              "      <th>2</th>\n",
              "      <td>30937</td>\n",
              "      <td>Female</td>\n",
              "      <td>Part time course</td>\n",
              "      <td>Graduate</td>\n",
              "      <td>STEM</td>\n",
              "      <td>83</td>\n",
              "      <td>No relevent experience</td>\n",
              "      <td>&lt;1</td>\n",
              "      <td>2</td>\n",
              "      <td>city_57</td>\n",
              "      <td>0.866</td>\n",
              "      <td>Pvt Ltd</td>\n",
              "      <td>10/49</td>\n",
              "      <td>0</td>\n",
              "    </tr>\n",
              "    <tr>\n",
              "      <th>3</th>\n",
              "      <td>25290</td>\n",
              "      <td>NaN</td>\n",
              "      <td>no_enrollment</td>\n",
              "      <td>High School</td>\n",
              "      <td>NaN</td>\n",
              "      <td>29</td>\n",
              "      <td>Has relevent experience</td>\n",
              "      <td>&lt;1</td>\n",
              "      <td>1</td>\n",
              "      <td>city_173</td>\n",
              "      <td>0.878</td>\n",
              "      <td>Pvt Ltd</td>\n",
              "      <td>100-500</td>\n",
              "      <td>0</td>\n",
              "    </tr>\n",
              "    <tr>\n",
              "      <th>4</th>\n",
              "      <td>10481</td>\n",
              "      <td>NaN</td>\n",
              "      <td>Full time course</td>\n",
              "      <td>Graduate</td>\n",
              "      <td>Business Degree</td>\n",
              "      <td>214</td>\n",
              "      <td>No relevent experience</td>\n",
              "      <td>&lt;1</td>\n",
              "      <td>&lt;1</td>\n",
              "      <td>city_102</td>\n",
              "      <td>0.804</td>\n",
              "      <td>NaN</td>\n",
              "      <td>NaN</td>\n",
              "      <td>0</td>\n",
              "    </tr>\n",
              "    <tr>\n",
              "      <th>5</th>\n",
              "      <td>24226</td>\n",
              "      <td>Female</td>\n",
              "      <td>no_enrollment</td>\n",
              "      <td>Graduate</td>\n",
              "      <td>STEM</td>\n",
              "      <td>13</td>\n",
              "      <td>Has relevent experience</td>\n",
              "      <td>&lt;1</td>\n",
              "      <td>1</td>\n",
              "      <td>city_21</td>\n",
              "      <td>0.624</td>\n",
              "      <td>Pvt Ltd</td>\n",
              "      <td>50-99</td>\n",
              "      <td>0</td>\n",
              "    </tr>\n",
              "    <tr>\n",
              "      <th>6</th>\n",
              "      <td>17783</td>\n",
              "      <td>Male</td>\n",
              "      <td>Full time course</td>\n",
              "      <td>Graduate</td>\n",
              "      <td>STEM</td>\n",
              "      <td>11</td>\n",
              "      <td>Has relevent experience</td>\n",
              "      <td>&lt;1</td>\n",
              "      <td>2</td>\n",
              "      <td>city_65</td>\n",
              "      <td>0.802</td>\n",
              "      <td>Pvt Ltd</td>\n",
              "      <td>10000+</td>\n",
              "      <td>0</td>\n",
              "    </tr>\n",
              "    <tr>\n",
              "      <th>7</th>\n",
              "      <td>17941</td>\n",
              "      <td>NaN</td>\n",
              "      <td>no_enrollment</td>\n",
              "      <td>Masters</td>\n",
              "      <td>Business Degree</td>\n",
              "      <td>18</td>\n",
              "      <td>No relevent experience</td>\n",
              "      <td>&lt;1</td>\n",
              "      <td>1</td>\n",
              "      <td>city_21</td>\n",
              "      <td>0.624</td>\n",
              "      <td>Pvt Ltd</td>\n",
              "      <td>10000+</td>\n",
              "      <td>0</td>\n",
              "    </tr>\n",
              "    <tr>\n",
              "      <th>8</th>\n",
              "      <td>20653</td>\n",
              "      <td>Male</td>\n",
              "      <td>Full time course</td>\n",
              "      <td>Graduate</td>\n",
              "      <td>STEM</td>\n",
              "      <td>44</td>\n",
              "      <td>No relevent experience</td>\n",
              "      <td>&lt;1</td>\n",
              "      <td>1</td>\n",
              "      <td>city_16</td>\n",
              "      <td>0.910</td>\n",
              "      <td>NaN</td>\n",
              "      <td>NaN</td>\n",
              "      <td>0</td>\n",
              "    </tr>\n",
              "    <tr>\n",
              "      <th>9</th>\n",
              "      <td>15297</td>\n",
              "      <td>NaN</td>\n",
              "      <td>Full time course</td>\n",
              "      <td>NaN</td>\n",
              "      <td>NaN</td>\n",
              "      <td>34</td>\n",
              "      <td>No relevent experience</td>\n",
              "      <td>&lt;1</td>\n",
              "      <td>&lt;1</td>\n",
              "      <td>city_103</td>\n",
              "      <td>0.920</td>\n",
              "      <td>NaN</td>\n",
              "      <td>NaN</td>\n",
              "      <td>0</td>\n",
              "    </tr>\n",
              "  </tbody>\n",
              "</table>\n",
              "</div>\n",
              "      <button class=\"colab-df-convert\" onclick=\"convertToInteractive('df-99fc3206-978e-4cb8-8a07-3d0af9077df3')\"\n",
              "              title=\"Convert this dataframe to an interactive table.\"\n",
              "              style=\"display:none;\">\n",
              "        \n",
              "  <svg xmlns=\"http://www.w3.org/2000/svg\" height=\"24px\"viewBox=\"0 0 24 24\"\n",
              "       width=\"24px\">\n",
              "    <path d=\"M0 0h24v24H0V0z\" fill=\"none\"/>\n",
              "    <path d=\"M18.56 5.44l.94 2.06.94-2.06 2.06-.94-2.06-.94-.94-2.06-.94 2.06-2.06.94zm-11 1L8.5 8.5l.94-2.06 2.06-.94-2.06-.94L8.5 2.5l-.94 2.06-2.06.94zm10 10l.94 2.06.94-2.06 2.06-.94-2.06-.94-.94-2.06-.94 2.06-2.06.94z\"/><path d=\"M17.41 7.96l-1.37-1.37c-.4-.4-.92-.59-1.43-.59-.52 0-1.04.2-1.43.59L10.3 9.45l-7.72 7.72c-.78.78-.78 2.05 0 2.83L4 21.41c.39.39.9.59 1.41.59.51 0 1.02-.2 1.41-.59l7.78-7.78 2.81-2.81c.8-.78.8-2.07 0-2.86zM5.41 20L4 18.59l7.72-7.72 1.47 1.35L5.41 20z\"/>\n",
              "  </svg>\n",
              "      </button>\n",
              "      \n",
              "  <style>\n",
              "    .colab-df-container {\n",
              "      display:flex;\n",
              "      flex-wrap:wrap;\n",
              "      gap: 12px;\n",
              "    }\n",
              "\n",
              "    .colab-df-convert {\n",
              "      background-color: #E8F0FE;\n",
              "      border: none;\n",
              "      border-radius: 50%;\n",
              "      cursor: pointer;\n",
              "      display: none;\n",
              "      fill: #1967D2;\n",
              "      height: 32px;\n",
              "      padding: 0 0 0 0;\n",
              "      width: 32px;\n",
              "    }\n",
              "\n",
              "    .colab-df-convert:hover {\n",
              "      background-color: #E2EBFA;\n",
              "      box-shadow: 0px 1px 2px rgba(60, 64, 67, 0.3), 0px 1px 3px 1px rgba(60, 64, 67, 0.15);\n",
              "      fill: #174EA6;\n",
              "    }\n",
              "\n",
              "    [theme=dark] .colab-df-convert {\n",
              "      background-color: #3B4455;\n",
              "      fill: #D2E3FC;\n",
              "    }\n",
              "\n",
              "    [theme=dark] .colab-df-convert:hover {\n",
              "      background-color: #434B5C;\n",
              "      box-shadow: 0px 1px 3px 1px rgba(0, 0, 0, 0.15);\n",
              "      filter: drop-shadow(0px 1px 2px rgba(0, 0, 0, 0.3));\n",
              "      fill: #FFFFFF;\n",
              "    }\n",
              "  </style>\n",
              "\n",
              "      <script>\n",
              "        const buttonEl =\n",
              "          document.querySelector('#df-99fc3206-978e-4cb8-8a07-3d0af9077df3 button.colab-df-convert');\n",
              "        buttonEl.style.display =\n",
              "          google.colab.kernel.accessAllowed ? 'block' : 'none';\n",
              "\n",
              "        async function convertToInteractive(key) {\n",
              "          const element = document.querySelector('#df-99fc3206-978e-4cb8-8a07-3d0af9077df3');\n",
              "          const dataTable =\n",
              "            await google.colab.kernel.invokeFunction('convertToInteractive',\n",
              "                                                     [key], {});\n",
              "          if (!dataTable) return;\n",
              "\n",
              "          const docLinkHtml = 'Like what you see? Visit the ' +\n",
              "            '<a target=\"_blank\" href=https://colab.research.google.com/notebooks/data_table.ipynb>data table notebook</a>'\n",
              "            + ' to learn more about interactive tables.';\n",
              "          element.innerHTML = '';\n",
              "          dataTable['output_type'] = 'display_data';\n",
              "          await google.colab.output.renderOutput(dataTable, element);\n",
              "          const docLink = document.createElement('div');\n",
              "          docLink.innerHTML = docLinkHtml;\n",
              "          element.appendChild(docLink);\n",
              "        }\n",
              "      </script>\n",
              "    </div>\n",
              "  </div>\n",
              "  "
            ]
          },
          "metadata": {},
          "execution_count": 4
        }
      ]
    },
    {
      "cell_type": "code",
      "source": [
        "plt.figure(figsize = (5,5))\n",
        "sns.boxplot(y = 'training_hours', data = train)"
      ],
      "metadata": {
        "colab": {
          "base_uri": "https://localhost:8080/",
          "height": 326
        },
        "id": "gh5t23yrrU_M",
        "outputId": "b9adf70f-10d8-4636-e594-e3b9544e3094"
      },
      "execution_count": null,
      "outputs": [
        {
          "output_type": "execute_result",
          "data": {
            "text/plain": [
              "<matplotlib.axes._subplots.AxesSubplot at 0x7f020b5b3e50>"
            ]
          },
          "metadata": {},
          "execution_count": 5
        },
        {
          "output_type": "stream",
          "name": "stderr",
          "text": [
            "2022-07-25 17:41:25,216 [WARNING]  findfont: Font family ['NanumBarunGothic'] not found. Falling back to DejaVu Sans.\n"
          ]
        },
        {
          "output_type": "display_data",
          "data": {
            "text/plain": [
              "<Figure size 360x360 with 1 Axes>"
            ],
            "image/png": "[encoded data removed]"
          },
          "metadata": {
            "needs_background": "light"
          }
        }
      ]
    },
    {
      "cell_type": "markdown",
      "source": [
        "## 2.2 Introduce Column\n",
        "> ### **Surveyor**\n",
        "  * **enrollee_id - 설문자 고유번호**<br>\n",
        "  * **gender - 설문자 성별**<br>\n",
        "    *('Male',　'Female',　'Other',　nan)*\n",
        "  * **target - 이직희망여부**<br>\n",
        "    *('0'_False,　'1'_True)*<br><br>\n",
        "\n",
        "> ### **Knowledge**\n",
        "  * **enrolled_university\t- 대학 진학 과정**<br>\n",
        "      *('Full time course',　'Part time course',　'no_enrollment',　nan)*\n",
        "  * **education_level - 학위**<br>\n",
        "    *('Phd',　'Masters',　'Graduate',　'High School',　'Primary School',　nan )*\n",
        "  * **major_discipline - 전공**<br>\n",
        "    *('STEM',　'Business Degree',　'Humanities',　'Arts',　'Other',　'No Major',　nan)*\n",
        "  * **training_hours - 교육시간**<br>\n",
        "    *(1~336_Continuous Data)*\n",
        "  * **relevent_experience - 데이터직군 관련경험**<br>\n",
        "    *('Has relevent experience',　'No relevent experience')*\n",
        "  * **experience - 경력년수**<br>\n",
        "    *(0~21_Continuous Data / nan)*\n",
        "  * **last_new_job - 공백기**<br>\n",
        "    *(0~4_Continuous Data / nan)*<br><br>\n",
        "\n",
        "> ### **City**\n",
        "  * **city - 도시 고유 번호**<br>\n",
        "  * **city_development_index - 도시 개발 지수**<br>\n",
        "    *(0.448~0.949_Continuous Data)*<br><br>\n",
        "\n",
        "> ### **Company**\n",
        "  * **company_type - 회사 유형**<br>\n",
        "    *('Pvt Ltd',　'Funded Startup',　'Early Stage Startup',　'Public Sector',　'NGO',　'Other',　nan)*\n",
        "  * **company_size - 사내 직원수**<br>\n",
        "    *(<10,　10-49,　50-99,　100-500,　500-999,　1000-4999,　5000-9999,　10000<,　nan)*\n",
        "\n",
        "---\n",
        " \n"
      ],
      "metadata": {
        "id": "RusDY5N-5-ZV"
      }
    },
    {
      "cell_type": "markdown",
      "source": [
        "> ## 2.2 Data Profiling\n",
        "> ### Profiling Insight\n",
        "- '**city**' column 은  도시의 고유명이기에 **High cardinality** 현상을 보인다.\n",
        "- '**enrollee_id**' column 은 설문자의 고유명이기에 **Unique** 하다.\n",
        "- '**target**' column 은 0과 1로 이루어진 형태이기에 0값의 비중이 높아 **Zeros** 현상을 보인다.\n",
        "- 이외의 column 들은 결측치가 존재하여 **Missing** 문제가 식별된다."
      ],
      "metadata": {
        "id": "FZGLsJQ64hcB"
      }
    },
    {
      "cell_type": "code",
      "source": [
        "profile = ProfileReport(train, minimal=True).to_notebook_iframe()"
      ],
      "metadata": {
        "colab": {
          "base_uri": "https://localhost:8080/",
          "height": 745
        },
        "id": "UXbTcLfDEbML",
        "outputId": "2aa8e68a-cfe7-4d60-d75a-aec30f61032d"
      },
      "execution_count": null,
      "outputs": [
        {
          "output_type": "stream",
          "name": "stderr",
          "text": [
            "2022-07-25 17:41:30,011 [INFO]  NumExpr defaulting to 2 threads.\n",
            "2022-07-25 17:41:30,062 [INFO]  NumExpr defaulting to 2 threads.\n"
          ]
        },
        {
          "output_type": "error",
          "ename": "TypeError",
          "evalue": "ignored",
          "traceback": [
            "\u001b[0;31m---------------------------------------------------------------------------\u001b[0m",
            "\u001b[0;31mRemoteTraceback\u001b[0m                           Traceback (most recent call last)",
            "\u001b[0;31mRemoteTraceback\u001b[0m: \n\"\"\"\nTraceback (most recent call last):\n  File \"/usr/lib/python3.7/multiprocessing/pool.py\", line 121, in worker\n    result = (True, func(*args, **kwds))\n  File \"/usr/lib/python3.7/multiprocessing/pool.py\", line 44, in mapstar\n    return list(map(*args))\n  File \"/usr/local/lib/python3.7/dist-packages/pandas_profiling/describe.py\", line 282, in multiprocess_func\n    return x[0], describe_1d(x[1], **kwargs)\n  File \"/usr/local/lib/python3.7/dist-packages/pandas_profiling/describe.py\", line 270, in describe_1d\n    result = result.append(describe_numeric_1d(data, **kwargs))\n  File \"/usr/local/lib/python3.7/dist-packages/pandas_profiling/describe.py\", line 54, in describe_numeric_1d\n    stats['histogram'] = histogram(series, **kwargs)\n  File \"/usr/local/lib/python3.7/dist-packages/pandas_profiling/plot.py\", line 73, in histogram\n    plot = _plot_histogram(series, **kwargs)\nTypeError: _plot_histogram() got an unexpected keyword argument 'minimal'\n\"\"\"",
            "\nThe above exception was the direct cause of the following exception:\n",
            "\u001b[0;31mTypeError\u001b[0m                                 Traceback (most recent call last)",
            "\u001b[0;32m<ipython-input-6-ae4282195cff>\u001b[0m in \u001b[0;36m<module>\u001b[0;34m()\u001b[0m\n\u001b[0;32m----> 1\u001b[0;31m \u001b[0mprofile\u001b[0m \u001b[0;34m=\u001b[0m \u001b[0mProfileReport\u001b[0m\u001b[0;34m(\u001b[0m\u001b[0mtrain\u001b[0m\u001b[0;34m,\u001b[0m \u001b[0mminimal\u001b[0m\u001b[0;34m=\u001b[0m\u001b[0;32mTrue\u001b[0m\u001b[0;34m)\u001b[0m\u001b[0;34m.\u001b[0m\u001b[0mto_notebook_iframe\u001b[0m\u001b[0;34m(\u001b[0m\u001b[0;34m)\u001b[0m\u001b[0;34m\u001b[0m\u001b[0;34m\u001b[0m\u001b[0m\n\u001b[0m",
            "\u001b[0;32m/usr/local/lib/python3.7/dist-packages/pandas_profiling/__init__.py\u001b[0m in \u001b[0;36m__init__\u001b[0;34m(self, df, **kwargs)\u001b[0m\n\u001b[1;32m     64\u001b[0m         \u001b[0msample\u001b[0m \u001b[0;34m=\u001b[0m \u001b[0mkwargs\u001b[0m\u001b[0;34m.\u001b[0m\u001b[0mget\u001b[0m\u001b[0;34m(\u001b[0m\u001b[0;34m'sample'\u001b[0m\u001b[0;34m,\u001b[0m \u001b[0mdf\u001b[0m\u001b[0;34m.\u001b[0m\u001b[0mhead\u001b[0m\u001b[0;34m(\u001b[0m\u001b[0;34m)\u001b[0m\u001b[0;34m)\u001b[0m\u001b[0;34m\u001b[0m\u001b[0;34m\u001b[0m\u001b[0m\n\u001b[1;32m     65\u001b[0m \u001b[0;34m\u001b[0m\u001b[0m\n\u001b[0;32m---> 66\u001b[0;31m         \u001b[0mdescription_set\u001b[0m \u001b[0;34m=\u001b[0m \u001b[0mdescribe\u001b[0m\u001b[0;34m(\u001b[0m\u001b[0mdf\u001b[0m\u001b[0;34m,\u001b[0m \u001b[0;34m**\u001b[0m\u001b[0mkwargs\u001b[0m\u001b[0;34m)\u001b[0m\u001b[0;34m\u001b[0m\u001b[0;34m\u001b[0m\u001b[0m\n\u001b[0m\u001b[1;32m     67\u001b[0m \u001b[0;34m\u001b[0m\u001b[0m\n\u001b[1;32m     68\u001b[0m         self.html = to_html(sample,\n",
            "\u001b[0;32m/usr/local/lib/python3.7/dist-packages/pandas_profiling/describe.py\u001b[0m in \u001b[0;36mdescribe\u001b[0;34m(df, bins, check_correlation, correlation_threshold, correlation_overrides, check_recoded, pool_size, **kwargs)\u001b[0m\n\u001b[1;32m    349\u001b[0m     \u001b[0mpool\u001b[0m \u001b[0;34m=\u001b[0m \u001b[0mmultiprocessing\u001b[0m\u001b[0;34m.\u001b[0m\u001b[0mPool\u001b[0m\u001b[0;34m(\u001b[0m\u001b[0mpool_size\u001b[0m\u001b[0;34m)\u001b[0m\u001b[0;34m\u001b[0m\u001b[0;34m\u001b[0m\u001b[0m\n\u001b[1;32m    350\u001b[0m     \u001b[0mlocal_multiprocess_func\u001b[0m \u001b[0;34m=\u001b[0m \u001b[0mpartial\u001b[0m\u001b[0;34m(\u001b[0m\u001b[0mmultiprocess_func\u001b[0m\u001b[0;34m,\u001b[0m \u001b[0;34m**\u001b[0m\u001b[0mkwargs\u001b[0m\u001b[0;34m)\u001b[0m\u001b[0;34m\u001b[0m\u001b[0;34m\u001b[0m\u001b[0m\n\u001b[0;32m--> 351\u001b[0;31m     \u001b[0mldesc\u001b[0m \u001b[0;34m=\u001b[0m \u001b[0;34m{\u001b[0m\u001b[0mcol\u001b[0m\u001b[0;34m:\u001b[0m \u001b[0ms\u001b[0m \u001b[0;32mfor\u001b[0m \u001b[0mcol\u001b[0m\u001b[0;34m,\u001b[0m \u001b[0ms\u001b[0m \u001b[0;32min\u001b[0m \u001b[0mpool\u001b[0m\u001b[0;34m.\u001b[0m\u001b[0mmap\u001b[0m\u001b[0;34m(\u001b[0m\u001b[0mlocal_multiprocess_func\u001b[0m\u001b[0;34m,\u001b[0m \u001b[0mdf\u001b[0m\u001b[0;34m.\u001b[0m\u001b[0miteritems\u001b[0m\u001b[0;34m(\u001b[0m\u001b[0;34m)\u001b[0m\u001b[0;34m)\u001b[0m\u001b[0;34m}\u001b[0m\u001b[0;34m\u001b[0m\u001b[0;34m\u001b[0m\u001b[0m\n\u001b[0m\u001b[1;32m    352\u001b[0m     \u001b[0mpool\u001b[0m\u001b[0;34m.\u001b[0m\u001b[0mclose\u001b[0m\u001b[0;34m(\u001b[0m\u001b[0;34m)\u001b[0m\u001b[0;34m\u001b[0m\u001b[0;34m\u001b[0m\u001b[0m\n\u001b[1;32m    353\u001b[0m \u001b[0;34m\u001b[0m\u001b[0m\n",
            "\u001b[0;32m/usr/lib/python3.7/multiprocessing/pool.py\u001b[0m in \u001b[0;36mmap\u001b[0;34m(self, func, iterable, chunksize)\u001b[0m\n\u001b[1;32m    266\u001b[0m         \u001b[0;32min\u001b[0m \u001b[0ma\u001b[0m \u001b[0mlist\u001b[0m \u001b[0mthat\u001b[0m \u001b[0;32mis\u001b[0m \u001b[0mreturned\u001b[0m\u001b[0;34m.\u001b[0m\u001b[0;34m\u001b[0m\u001b[0;34m\u001b[0m\u001b[0m\n\u001b[1;32m    267\u001b[0m         '''\n\u001b[0;32m--> 268\u001b[0;31m         \u001b[0;32mreturn\u001b[0m \u001b[0mself\u001b[0m\u001b[0;34m.\u001b[0m\u001b[0m_map_async\u001b[0m\u001b[0;34m(\u001b[0m\u001b[0mfunc\u001b[0m\u001b[0;34m,\u001b[0m \u001b[0miterable\u001b[0m\u001b[0;34m,\u001b[0m \u001b[0mmapstar\u001b[0m\u001b[0;34m,\u001b[0m \u001b[0mchunksize\u001b[0m\u001b[0;34m)\u001b[0m\u001b[0;34m.\u001b[0m\u001b[0mget\u001b[0m\u001b[0;34m(\u001b[0m\u001b[0;34m)\u001b[0m\u001b[0;34m\u001b[0m\u001b[0;34m\u001b[0m\u001b[0m\n\u001b[0m\u001b[1;32m    269\u001b[0m \u001b[0;34m\u001b[0m\u001b[0m\n\u001b[1;32m    270\u001b[0m     \u001b[0;32mdef\u001b[0m \u001b[0mstarmap\u001b[0m\u001b[0;34m(\u001b[0m\u001b[0mself\u001b[0m\u001b[0;34m,\u001b[0m \u001b[0mfunc\u001b[0m\u001b[0;34m,\u001b[0m \u001b[0miterable\u001b[0m\u001b[0;34m,\u001b[0m \u001b[0mchunksize\u001b[0m\u001b[0;34m=\u001b[0m\u001b[0;32mNone\u001b[0m\u001b[0;34m)\u001b[0m\u001b[0;34m:\u001b[0m\u001b[0;34m\u001b[0m\u001b[0;34m\u001b[0m\u001b[0m\n",
            "\u001b[0;32m/usr/lib/python3.7/multiprocessing/pool.py\u001b[0m in \u001b[0;36mget\u001b[0;34m(self, timeout)\u001b[0m\n\u001b[1;32m    655\u001b[0m             \u001b[0;32mreturn\u001b[0m \u001b[0mself\u001b[0m\u001b[0;34m.\u001b[0m\u001b[0m_value\u001b[0m\u001b[0;34m\u001b[0m\u001b[0;34m\u001b[0m\u001b[0m\n\u001b[1;32m    656\u001b[0m         \u001b[0;32melse\u001b[0m\u001b[0;34m:\u001b[0m\u001b[0;34m\u001b[0m\u001b[0;34m\u001b[0m\u001b[0m\n\u001b[0;32m--> 657\u001b[0;31m             \u001b[0;32mraise\u001b[0m \u001b[0mself\u001b[0m\u001b[0;34m.\u001b[0m\u001b[0m_value\u001b[0m\u001b[0;34m\u001b[0m\u001b[0;34m\u001b[0m\u001b[0m\n\u001b[0m\u001b[1;32m    658\u001b[0m \u001b[0;34m\u001b[0m\u001b[0m\n\u001b[1;32m    659\u001b[0m     \u001b[0;32mdef\u001b[0m \u001b[0m_set\u001b[0m\u001b[0;34m(\u001b[0m\u001b[0mself\u001b[0m\u001b[0;34m,\u001b[0m \u001b[0mi\u001b[0m\u001b[0;34m,\u001b[0m \u001b[0mobj\u001b[0m\u001b[0;34m)\u001b[0m\u001b[0;34m:\u001b[0m\u001b[0;34m\u001b[0m\u001b[0;34m\u001b[0m\u001b[0m\n",
            "\u001b[0;32m/usr/lib/python3.7/multiprocessing/pool.py\u001b[0m in \u001b[0;36mworker\u001b[0;34m()\u001b[0m\n\u001b[1;32m    119\u001b[0m         \u001b[0mjob\u001b[0m\u001b[0;34m,\u001b[0m \u001b[0mi\u001b[0m\u001b[0;34m,\u001b[0m \u001b[0mfunc\u001b[0m\u001b[0;34m,\u001b[0m \u001b[0margs\u001b[0m\u001b[0;34m,\u001b[0m \u001b[0mkwds\u001b[0m \u001b[0;34m=\u001b[0m \u001b[0mtask\u001b[0m\u001b[0;34m\u001b[0m\u001b[0;34m\u001b[0m\u001b[0m\n\u001b[1;32m    120\u001b[0m         \u001b[0;32mtry\u001b[0m\u001b[0;34m:\u001b[0m\u001b[0;34m\u001b[0m\u001b[0;34m\u001b[0m\u001b[0m\n\u001b[0;32m--> 121\u001b[0;31m             \u001b[0mresult\u001b[0m \u001b[0;34m=\u001b[0m \u001b[0;34m(\u001b[0m\u001b[0;32mTrue\u001b[0m\u001b[0;34m,\u001b[0m \u001b[0mfunc\u001b[0m\u001b[0;34m(\u001b[0m\u001b[0;34m*\u001b[0m\u001b[0margs\u001b[0m\u001b[0;34m,\u001b[0m \u001b[0;34m**\u001b[0m\u001b[0mkwds\u001b[0m\u001b[0;34m)\u001b[0m\u001b[0;34m)\u001b[0m\u001b[0;34m\u001b[0m\u001b[0;34m\u001b[0m\u001b[0m\n\u001b[0m\u001b[1;32m    122\u001b[0m         \u001b[0;32mexcept\u001b[0m \u001b[0mException\u001b[0m \u001b[0;32mas\u001b[0m \u001b[0me\u001b[0m\u001b[0;34m:\u001b[0m\u001b[0;34m\u001b[0m\u001b[0;34m\u001b[0m\u001b[0m\n\u001b[1;32m    123\u001b[0m             \u001b[0;32mif\u001b[0m \u001b[0mwrap_exception\u001b[0m \u001b[0;32mand\u001b[0m \u001b[0mfunc\u001b[0m \u001b[0;32mis\u001b[0m \u001b[0;32mnot\u001b[0m \u001b[0m_helper_reraises_exception\u001b[0m\u001b[0;34m:\u001b[0m\u001b[0;34m\u001b[0m\u001b[0;34m\u001b[0m\u001b[0m\n",
            "\u001b[0;32m/usr/lib/python3.7/multiprocessing/pool.py\u001b[0m in \u001b[0;36mmapstar\u001b[0;34m()\u001b[0m\n\u001b[1;32m     42\u001b[0m \u001b[0;34m\u001b[0m\u001b[0m\n\u001b[1;32m     43\u001b[0m \u001b[0;32mdef\u001b[0m \u001b[0mmapstar\u001b[0m\u001b[0;34m(\u001b[0m\u001b[0margs\u001b[0m\u001b[0;34m)\u001b[0m\u001b[0;34m:\u001b[0m\u001b[0;34m\u001b[0m\u001b[0;34m\u001b[0m\u001b[0m\n\u001b[0;32m---> 44\u001b[0;31m     \u001b[0;32mreturn\u001b[0m \u001b[0mlist\u001b[0m\u001b[0;34m(\u001b[0m\u001b[0mmap\u001b[0m\u001b[0;34m(\u001b[0m\u001b[0;34m*\u001b[0m\u001b[0margs\u001b[0m\u001b[0;34m)\u001b[0m\u001b[0;34m)\u001b[0m\u001b[0;34m\u001b[0m\u001b[0;34m\u001b[0m\u001b[0m\n\u001b[0m\u001b[1;32m     45\u001b[0m \u001b[0;34m\u001b[0m\u001b[0m\n\u001b[1;32m     46\u001b[0m \u001b[0;32mdef\u001b[0m \u001b[0mstarmapstar\u001b[0m\u001b[0;34m(\u001b[0m\u001b[0margs\u001b[0m\u001b[0;34m)\u001b[0m\u001b[0;34m:\u001b[0m\u001b[0;34m\u001b[0m\u001b[0;34m\u001b[0m\u001b[0m\n",
            "\u001b[0;32m/usr/local/lib/python3.7/dist-packages/pandas_profiling/describe.py\u001b[0m in \u001b[0;36mmultiprocess_func\u001b[0;34m()\u001b[0m\n\u001b[1;32m    280\u001b[0m \u001b[0;34m\u001b[0m\u001b[0m\n\u001b[1;32m    281\u001b[0m \u001b[0;32mdef\u001b[0m \u001b[0mmultiprocess_func\u001b[0m\u001b[0;34m(\u001b[0m\u001b[0mx\u001b[0m\u001b[0;34m,\u001b[0m \u001b[0;34m**\u001b[0m\u001b[0mkwargs\u001b[0m\u001b[0;34m)\u001b[0m\u001b[0;34m:\u001b[0m\u001b[0;34m\u001b[0m\u001b[0;34m\u001b[0m\u001b[0m\n\u001b[0;32m--> 282\u001b[0;31m     \u001b[0;32mreturn\u001b[0m \u001b[0mx\u001b[0m\u001b[0;34m[\u001b[0m\u001b[0;36m0\u001b[0m\u001b[0;34m]\u001b[0m\u001b[0;34m,\u001b[0m \u001b[0mdescribe_1d\u001b[0m\u001b[0;34m(\u001b[0m\u001b[0mx\u001b[0m\u001b[0;34m[\u001b[0m\u001b[0;36m1\u001b[0m\u001b[0;34m]\u001b[0m\u001b[0;34m,\u001b[0m \u001b[0;34m**\u001b[0m\u001b[0mkwargs\u001b[0m\u001b[0;34m)\u001b[0m\u001b[0;34m\u001b[0m\u001b[0;34m\u001b[0m\u001b[0m\n\u001b[0m\u001b[1;32m    283\u001b[0m \u001b[0;34m\u001b[0m\u001b[0m\n\u001b[1;32m    284\u001b[0m \u001b[0;32mdef\u001b[0m \u001b[0mdescribe\u001b[0m\u001b[0;34m(\u001b[0m\u001b[0mdf\u001b[0m\u001b[0;34m,\u001b[0m \u001b[0mbins\u001b[0m\u001b[0;34m=\u001b[0m\u001b[0;36m10\u001b[0m\u001b[0;34m,\u001b[0m \u001b[0mcheck_correlation\u001b[0m\u001b[0;34m=\u001b[0m\u001b[0;32mTrue\u001b[0m\u001b[0;34m,\u001b[0m \u001b[0mcorrelation_threshold\u001b[0m\u001b[0;34m=\u001b[0m\u001b[0;36m0.9\u001b[0m\u001b[0;34m,\u001b[0m \u001b[0mcorrelation_overrides\u001b[0m\u001b[0;34m=\u001b[0m\u001b[0;32mNone\u001b[0m\u001b[0;34m,\u001b[0m \u001b[0mcheck_recoded\u001b[0m\u001b[0;34m=\u001b[0m\u001b[0;32mFalse\u001b[0m\u001b[0;34m,\u001b[0m \u001b[0mpool_size\u001b[0m\u001b[0;34m=\u001b[0m\u001b[0mmultiprocessing\u001b[0m\u001b[0;34m.\u001b[0m\u001b[0mcpu_count\u001b[0m\u001b[0;34m(\u001b[0m\u001b[0;34m)\u001b[0m\u001b[0;34m,\u001b[0m \u001b[0;34m**\u001b[0m\u001b[0mkwargs\u001b[0m\u001b[0;34m)\u001b[0m\u001b[0;34m:\u001b[0m\u001b[0;34m\u001b[0m\u001b[0;34m\u001b[0m\u001b[0m\n",
            "\u001b[0;32m/usr/local/lib/python3.7/dist-packages/pandas_profiling/describe.py\u001b[0m in \u001b[0;36mdescribe_1d\u001b[0;34m()\u001b[0m\n\u001b[1;32m    268\u001b[0m             \u001b[0mresult\u001b[0m \u001b[0;34m=\u001b[0m \u001b[0mresult\u001b[0m\u001b[0;34m.\u001b[0m\u001b[0mappend\u001b[0m\u001b[0;34m(\u001b[0m\u001b[0mdescribe_boolean_1d\u001b[0m\u001b[0;34m(\u001b[0m\u001b[0mdata\u001b[0m\u001b[0;34m,\u001b[0m \u001b[0;34m**\u001b[0m\u001b[0mkwargs\u001b[0m\u001b[0;34m)\u001b[0m\u001b[0;34m)\u001b[0m\u001b[0;34m\u001b[0m\u001b[0;34m\u001b[0m\u001b[0m\n\u001b[1;32m    269\u001b[0m         \u001b[0;32melif\u001b[0m \u001b[0mvartype\u001b[0m \u001b[0;34m==\u001b[0m \u001b[0mbase\u001b[0m\u001b[0;34m.\u001b[0m\u001b[0mTYPE_NUM\u001b[0m\u001b[0;34m:\u001b[0m\u001b[0;34m\u001b[0m\u001b[0;34m\u001b[0m\u001b[0m\n\u001b[0;32m--> 270\u001b[0;31m             \u001b[0mresult\u001b[0m \u001b[0;34m=\u001b[0m \u001b[0mresult\u001b[0m\u001b[0;34m.\u001b[0m\u001b[0mappend\u001b[0m\u001b[0;34m(\u001b[0m\u001b[0mdescribe_numeric_1d\u001b[0m\u001b[0;34m(\u001b[0m\u001b[0mdata\u001b[0m\u001b[0;34m,\u001b[0m \u001b[0;34m**\u001b[0m\u001b[0mkwargs\u001b[0m\u001b[0;34m)\u001b[0m\u001b[0;34m)\u001b[0m\u001b[0;34m\u001b[0m\u001b[0;34m\u001b[0m\u001b[0m\n\u001b[0m\u001b[1;32m    271\u001b[0m         \u001b[0;32melif\u001b[0m \u001b[0mvartype\u001b[0m \u001b[0;34m==\u001b[0m \u001b[0mbase\u001b[0m\u001b[0;34m.\u001b[0m\u001b[0mTYPE_DATE\u001b[0m\u001b[0;34m:\u001b[0m\u001b[0;34m\u001b[0m\u001b[0;34m\u001b[0m\u001b[0m\n\u001b[1;32m    272\u001b[0m             \u001b[0mresult\u001b[0m \u001b[0;34m=\u001b[0m \u001b[0mresult\u001b[0m\u001b[0;34m.\u001b[0m\u001b[0mappend\u001b[0m\u001b[0;34m(\u001b[0m\u001b[0mdescribe_date_1d\u001b[0m\u001b[0;34m(\u001b[0m\u001b[0mdata\u001b[0m\u001b[0;34m,\u001b[0m \u001b[0;34m**\u001b[0m\u001b[0mkwargs\u001b[0m\u001b[0;34m)\u001b[0m\u001b[0;34m)\u001b[0m\u001b[0;34m\u001b[0m\u001b[0;34m\u001b[0m\u001b[0m\n",
            "\u001b[0;32m/usr/local/lib/python3.7/dist-packages/pandas_profiling/describe.py\u001b[0m in \u001b[0;36mdescribe_numeric_1d\u001b[0;34m()\u001b[0m\n\u001b[1;32m     52\u001b[0m     \u001b[0mstats\u001b[0m\u001b[0;34m[\u001b[0m\u001b[0;34m'p_zeros'\u001b[0m\u001b[0;34m]\u001b[0m \u001b[0;34m=\u001b[0m \u001b[0mstats\u001b[0m\u001b[0;34m[\u001b[0m\u001b[0;34m'n_zeros'\u001b[0m\u001b[0;34m]\u001b[0m \u001b[0;34m/\u001b[0m \u001b[0mlen\u001b[0m\u001b[0;34m(\u001b[0m\u001b[0mseries\u001b[0m\u001b[0;34m)\u001b[0m\u001b[0;34m\u001b[0m\u001b[0;34m\u001b[0m\u001b[0m\n\u001b[1;32m     53\u001b[0m     \u001b[0;31m# Histograms\u001b[0m\u001b[0;34m\u001b[0m\u001b[0;34m\u001b[0m\u001b[0;34m\u001b[0m\u001b[0m\n\u001b[0;32m---> 54\u001b[0;31m     \u001b[0mstats\u001b[0m\u001b[0;34m[\u001b[0m\u001b[0;34m'histogram'\u001b[0m\u001b[0;34m]\u001b[0m \u001b[0;34m=\u001b[0m \u001b[0mhistogram\u001b[0m\u001b[0;34m(\u001b[0m\u001b[0mseries\u001b[0m\u001b[0;34m,\u001b[0m \u001b[0;34m**\u001b[0m\u001b[0mkwargs\u001b[0m\u001b[0;34m)\u001b[0m\u001b[0;34m\u001b[0m\u001b[0;34m\u001b[0m\u001b[0m\n\u001b[0m\u001b[1;32m     55\u001b[0m     \u001b[0mstats\u001b[0m\u001b[0;34m[\u001b[0m\u001b[0;34m'mini_histogram'\u001b[0m\u001b[0;34m]\u001b[0m \u001b[0;34m=\u001b[0m \u001b[0mmini_histogram\u001b[0m\u001b[0;34m(\u001b[0m\u001b[0mseries\u001b[0m\u001b[0;34m,\u001b[0m \u001b[0;34m**\u001b[0m\u001b[0mkwargs\u001b[0m\u001b[0;34m)\u001b[0m\u001b[0;34m\u001b[0m\u001b[0;34m\u001b[0m\u001b[0m\n\u001b[1;32m     56\u001b[0m     \u001b[0;32mreturn\u001b[0m \u001b[0mpd\u001b[0m\u001b[0;34m.\u001b[0m\u001b[0mSeries\u001b[0m\u001b[0;34m(\u001b[0m\u001b[0mstats\u001b[0m\u001b[0;34m,\u001b[0m \u001b[0mname\u001b[0m\u001b[0;34m=\u001b[0m\u001b[0mseries\u001b[0m\u001b[0;34m.\u001b[0m\u001b[0mname\u001b[0m\u001b[0;34m)\u001b[0m\u001b[0;34m\u001b[0m\u001b[0;34m\u001b[0m\u001b[0m\n",
            "\u001b[0;32m/usr/local/lib/python3.7/dist-packages/pandas_profiling/plot.py\u001b[0m in \u001b[0;36mhistogram\u001b[0;34m()\u001b[0m\n\u001b[1;32m     71\u001b[0m     \"\"\"\n\u001b[1;32m     72\u001b[0m     \u001b[0mimgdata\u001b[0m \u001b[0;34m=\u001b[0m \u001b[0mBytesIO\u001b[0m\u001b[0;34m(\u001b[0m\u001b[0;34m)\u001b[0m\u001b[0;34m\u001b[0m\u001b[0;34m\u001b[0m\u001b[0m\n\u001b[0;32m---> 73\u001b[0;31m     \u001b[0mplot\u001b[0m \u001b[0;34m=\u001b[0m \u001b[0m_plot_histogram\u001b[0m\u001b[0;34m(\u001b[0m\u001b[0mseries\u001b[0m\u001b[0;34m,\u001b[0m \u001b[0;34m**\u001b[0m\u001b[0mkwargs\u001b[0m\u001b[0;34m)\u001b[0m\u001b[0;34m\u001b[0m\u001b[0;34m\u001b[0m\u001b[0m\n\u001b[0m\u001b[1;32m     74\u001b[0m     \u001b[0mplot\u001b[0m\u001b[0;34m.\u001b[0m\u001b[0mfigure\u001b[0m\u001b[0;34m.\u001b[0m\u001b[0msubplots_adjust\u001b[0m\u001b[0;34m(\u001b[0m\u001b[0mleft\u001b[0m\u001b[0;34m=\u001b[0m\u001b[0;36m0.15\u001b[0m\u001b[0;34m,\u001b[0m \u001b[0mright\u001b[0m\u001b[0;34m=\u001b[0m\u001b[0;36m0.95\u001b[0m\u001b[0;34m,\u001b[0m \u001b[0mtop\u001b[0m\u001b[0;34m=\u001b[0m\u001b[0;36m0.9\u001b[0m\u001b[0;34m,\u001b[0m \u001b[0mbottom\u001b[0m\u001b[0;34m=\u001b[0m\u001b[0;36m0.1\u001b[0m\u001b[0;34m,\u001b[0m \u001b[0mwspace\u001b[0m\u001b[0;34m=\u001b[0m\u001b[0;36m0\u001b[0m\u001b[0;34m,\u001b[0m \u001b[0mhspace\u001b[0m\u001b[0;34m=\u001b[0m\u001b[0;36m0\u001b[0m\u001b[0;34m)\u001b[0m\u001b[0;34m\u001b[0m\u001b[0;34m\u001b[0m\u001b[0m\n\u001b[1;32m     75\u001b[0m     \u001b[0mplot\u001b[0m\u001b[0;34m.\u001b[0m\u001b[0mfigure\u001b[0m\u001b[0;34m.\u001b[0m\u001b[0msavefig\u001b[0m\u001b[0;34m(\u001b[0m\u001b[0mimgdata\u001b[0m\u001b[0;34m)\u001b[0m\u001b[0;34m\u001b[0m\u001b[0;34m\u001b[0m\u001b[0m\n",
            "\u001b[0;31mTypeError\u001b[0m: _plot_histogram() got an unexpected keyword argument 'minimal'"
          ]
        }
      ]
    },
    {
      "cell_type": "markdown",
      "source": [
        "# 3. Exploratory Data Analysis_(EDA)\n",
        "\n",
        "- 3.1 Data Preprocessing\n",
        "- 3.2 Encoding\n",
        "- 3.3 Data Balancing\n",
        "\n",
        "\n",
        "\n"
      ],
      "metadata": {
        "id": "BOFn0PpuMAp9"
      }
    },
    {
      "cell_type": "markdown",
      "source": [
        "> ## 3.1 Data Preprocessing\n",
        "- 2.2 Data Profiling 에서 확인된 문제들을 시각화하여 확인하고, 전처리계획 수립\n"
      ],
      "metadata": {
        "id": "MdqOGxMvRms4"
      }
    },
    {
      "cell_type": "code",
      "source": [
        "# 특성별 정보 확인\n",
        "train.info()"
      ],
      "metadata": {
        "id": "TF9Xe3HoawUk"
      },
      "execution_count": null,
      "outputs": []
    },
    {
      "cell_type": "code",
      "source": [
        "# 특성별 결측치 확인\n",
        "train.isna().sum()"
      ],
      "metadata": {
        "id": "uQ3fcfIl5C0z"
      },
      "execution_count": null,
      "outputs": []
    },
    {
      "cell_type": "code",
      "source": [
        "missing_value = 100 * train.isnull().sum()/len(train)\n",
        "missing_value = missing_value.reset_index()\n",
        "missing_value.columns = ['variables','missing values in percentage']\n",
        "missing_value['missing values in percentage'] = missing_value['missing values in percentage'].round(2)"
      ],
      "metadata": {
        "id": "pgcw8cHZaGg0"
      },
      "execution_count": null,
      "outputs": []
    },
    {
      "cell_type": "code",
      "source": [
        "#그래프배경\n",
        "fig, ax = plt.subplots(1, 1, figsize=(13.8, 18.4))\n",
        "fig.subplots_adjust(left=0.06, bottom=0., right=0.9, top=0.38, wspace=0.2)\n",
        "sns.set(style='whitegrid')\n",
        "\n",
        "#그래프부문(barplot)\n",
        "fig1 = sns.barplot(x='variables', y='missing values in percentage', \n",
        "                   data=missing_value.sort_values('missing values in percentage', ascending=False), palette='rainbow_r')\n",
        "plt.ylim(0, 50.00)\n",
        "plt.xlabel('Column', fontsize = 15, fontweight = 'bold')\n",
        "plt.ylabel('Rate (%)', fontsize = 15, fontweight = 'bold')\n",
        "fig1.set_xticklabels(fig1.get_xticklabels(), rotation=45,\n",
        "                  horizontalalignment='right',\n",
        "                  fontweight='light',\n",
        "                  fontsize='large'\n",
        "                  )\n",
        "plt.title('Percentage of missing values by column', size=16);\n",
        "\n",
        "\n",
        "#그래프제목(네모칸)\n",
        "fig.text(-0.08, 0.5,\n",
        "         '''Percentage of missing values by column\n",
        "         ''', \n",
        "        fontsize = 18, fontweight = 'bold', fontfamily = 'serif', color = 'black',\n",
        "        bbox={'facecolor': 'white', 'alpha': 0.5, 'pad': 10}, style = 'italic')\n",
        "\n",
        "# 그래프 설명(네모칸 아래)\n",
        "fig.text(-0.06, 0.39, \n",
        "         '''\n",
        "         Insight :\n",
        "\n",
        "         1) 결측값이 있는 수치형변수(현재는 범주형변수일수 있으나, 순위를 측정할 수 있는 변수)\n",
        "            - enrolled_university,　education level,　experience,　last new job,　company size\n",
        "\n",
        "         2) 결측값이 있는 범주형변수(순위를 측정할 수 없는 변수)\n",
        "            - gender,　major_discipline,　company_type\n",
        "         ''',\n",
        "        fontsize = 15, fontweight = 'light', fontfamily = 'NanumBarunGothic', color = 'black')\n",
        "\n",
        "# 그래프 설명(그래프 아래)\n",
        "fig.text(-0.06, -0.3, \n",
        "         '''\n",
        "         Respond :\n",
        "\n",
        "           - 결측값이 10%~20% 수준일때 삭제 혹은 최빈값으로 대치하는 것이 일반적이나, \n",
        "             시간과 돈의 집합체로 수집된 데이터를 최대한 활용하기 위해 다른방법을 강구.\n",
        "\n",
        "           - 수치형변수에 대해선 다중대치법(Multivariate impuattion by chained equations_MICE)를 통해 누락된 데이터를 대체\n",
        "             (MICE : 여러 결측치 대치세트를 만들어 통계모델링을 수행하고 도출된 평균,분산,신뢰구간을 통해 최적의 대체값을 찾는방법)\n",
        "\n",
        "           - 범주형변수에 대해선 딥러닝에 속하는 datawig 라이브러리를 활용하여 모델학습 후 누락된 값을 유추한다.\n",
        "             (한번에 한개의 column만 대체 가능하기 때문에, 결측값의 비중이 적은 column순으로 적용하여 결측값 비중이 가장 높은 company_type의 유추 정확도를 향상)\n",
        "         ''',\n",
        "        fontsize = 15, fontweight = 'light', fontfamily = 'NanumBarunGothic', color = 'black')\n",
        "\n",
        "plt.show();"
      ],
      "metadata": {
        "id": "fmuzZhzlNE3E"
      },
      "execution_count": null,
      "outputs": []
    },
    {
      "cell_type": "markdown",
      "source": [
        ">> ### **3.1_1 Numeric Variable Encoding**\n",
        "  * 결측값 처리 이전 순위를 측정할 수 있는 변수들에 대하여 Mapping을 통한 Encoding"
      ],
      "metadata": {
        "id": "14K49tz496fL"
      }
    },
    {
      "cell_type": "code",
      "source": [
        "train_map = train.copy()"
      ],
      "metadata": {
        "id": "B20vFx_C_UF-"
      },
      "execution_count": null,
      "outputs": []
    },
    {
      "cell_type": "code",
      "source": [
        "for feature in train_map.columns:\n",
        "    print('*******','Column name:',feature,'*******')\n",
        "    print(train_map[feature].unique())\n",
        "    print('***********-end-***********')\n",
        "    print(' ')"
      ],
      "metadata": {
        "id": "19vj7CgA_cGE"
      },
      "execution_count": null,
      "outputs": []
    },
    {
      "cell_type": "code",
      "source": [
        "train_map.head()"
      ],
      "metadata": {
        "id": "88QJQ9VjBREn"
      },
      "execution_count": null,
      "outputs": []
    },
    {
      "cell_type": "code",
      "source": [
        "# Column name: enrolled_university\n",
        "# 미진학 : 0점 / 야간대학과정 : 1점 / 정규대학과정 : 2점\n",
        "\n",
        "train_map['enrolled_university'] = train_map['enrolled_university'].map({'no_enrollment':int(0),\n",
        "                                                                           'Part time course':int(1),\n",
        "                                                                           'Full time course':int(2)\n",
        "                                                                           })"
      ],
      "metadata": {
        "id": "PBrbE-jS-XvK"
      },
      "execution_count": null,
      "outputs": []
    },
    {
      "cell_type": "code",
      "source": [
        "# Column name: education_level\n",
        "# 초등학교졸업 : 0점 / 고등학교졸업 : 1점 / 학사 : 2점 / 석사 : 3점 / 박사 : 4점\n",
        "\n",
        "train_map['education_level'] = train_map['education_level'].map({'Primary School':int(0),\n",
        "                                                                   'High School':int(1),\n",
        "                                                                   'Graduate':int(2),\n",
        "                                                                   'Masters':int(3),\n",
        "                                                                   'Phd':int(4)\n",
        "                                                                   })"
      ],
      "metadata": {
        "id": "g5RJOKwvATcR"
      },
      "execution_count": null,
      "outputs": []
    },
    {
      "cell_type": "code",
      "source": [
        "# Column name: relevent_experience\n",
        "# boolean으로 분류할 수 있으나, 데이터직군 경험은 구직시 메리트로 적용됨으로 경험 여부를 차등화\n",
        "# 경험없음 : 0점 / 경험있음 : 1점 \n",
        "\n",
        "train_map['relevent_experience'] = train_map['relevent_experience'].map({'No relevent experience':int(0), 'Has relevent experience':int(1)})"
      ],
      "metadata": {
        "id": "MtTZp5D2KCCz"
      },
      "execution_count": null,
      "outputs": []
    },
    {
      "cell_type": "code",
      "source": [
        "# Column name: experience\n",
        "# 경험년차가 높을수록 높은점수 부여\n",
        "\n",
        "train_map['experience'] = train_map['experience'].map({'<1':int(0), '1':int(1), '2':int(2), '3':int(3),\n",
        "                                                         '4':int(4), '5':int(5), '6':int(6),'7':int(7),\n",
        "                                                         '8':int(8),'9':int(9), '10':int(10), '11':int(11),\n",
        "                                                         '12':int(12), '13':int(13), '14':int(14), '15':int(15),\n",
        "                                                         '16':int(16), '17':int(17), '18':int(18), '19':int(19),\n",
        "                                                         '20':int(20), '>20':int(21)})"
      ],
      "metadata": {
        "id": "ytnDh5_zBLza"
      },
      "execution_count": null,
      "outputs": []
    },
    {
      "cell_type": "code",
      "source": [
        "# Column name: last_new_job\n",
        "# 이전직장과의 년수 차이(공백기)가 낮을수록 높은점수 부여\n",
        "train_map['last_new_job'] = train_map['last_new_job'].map({'>4':int(0), '4':int(1), '3':int(2), '2':int(3), '1':int(4), '<1':int(5)})"
      ],
      "metadata": {
        "id": "Fo2TFzfNBL5O"
      },
      "execution_count": null,
      "outputs": []
    },
    {
      "cell_type": "code",
      "source": [
        "# Column name: company_size\n",
        "# 회사규모(사원수)가 클수록 높은점수 부여\n",
        "train_map['company_size'] = train_map['company_size'].map({'<10':int(0), '10/49':int(1), '50-99':int(2), '100-500':int(3),\n",
        "                                                             '500-999':int(4), '1000-4999':int(5), '5000-9999':int(6), '10000+':int(7)\n",
        "                                                             })"
      ],
      "metadata": {
        "id": "7WfBLBQ5IS6X"
      },
      "execution_count": null,
      "outputs": []
    },
    {
      "cell_type": "markdown",
      "source": [
        ">> ### **3.1_2 Categorical Variable Encoding**\n",
        "  * datawig 라이브러리의 효율향상을 위해 결측값 처리 이전 자연어에 대해 Mapping을 통한 Encoding\n",
        "  * 우열을 가릴 수 없는 범주형 변수이기에 mapping값은 수치적의미가 아닌 암호화의 개념을 적용\n",
        "  * 수치형 변수들과 구별하기 위해 음수값으로 표현"
      ],
      "metadata": {
        "id": "5yzhSSmGJIDo"
      }
    },
    {
      "cell_type": "code",
      "source": [
        "# # Column name: gender\n",
        "# # 남성 : -1 / 여성 : -2 / 기타 : -3\n",
        "# train_map['gender'] = train_map['gender'].map({'Male':int(-1), 'Female':int(-2), 'Other':int(-3)})"
      ],
      "metadata": {
        "id": "8NhIbSV2ITEO"
      },
      "execution_count": null,
      "outputs": []
    },
    {
      "cell_type": "code",
      "source": [
        "# # Column name: major_discipline\n",
        "# # 공학계열 : -1 / 경영학계열 : -2 / 인문학계열 : -3 / 예술계열 : -4 / 기타전공 : -5 / 비전공 : -6\n",
        "# train_map['major_discipline'] = train_map['major_discipline'].map({'STEM':int(-1) ,'Business Degree':int(-2),\n",
        "#                                                                      'Humanities':int(-3), 'Arts':int(-4),\n",
        "#                                                                      'Other':int(-5) ,'No Major':int(-6)\n",
        "#                                                                      })"
      ],
      "metadata": {
        "id": "T3H6WWYEITGR"
      },
      "execution_count": null,
      "outputs": []
    },
    {
      "cell_type": "code",
      "source": [
        "# # Column name: company_type\n",
        "# # 주식회사 : -1 / 투자형 스타트업 : -2 / 초기 스타트업 : -3 / 공기업 : -4 / 사회적기업 : -5 / 기타 : -6\n",
        "\n",
        "# train_map['company_type'] = train_map['company_type'].map({'Pvt Ltd':int(-1), 'Funded Startup':int(-2),\n",
        "#                                                              'Early Stage Startup':int(-3), 'Public Sector':int(-4),\n",
        "#                                                              'NGO':int(-5), 'Other':int(-6)\n",
        "#                                                              })"
      ],
      "metadata": {
        "id": "WFaBifTwMmdd"
      },
      "execution_count": null,
      "outputs": []
    },
    {
      "cell_type": "markdown",
      "source": [
        ">> ### **3.1_3 Numeric Variable Missing Value Processing**\n",
        "- MICE를 통해 결측값 대치\n",
        "- *(enrolled_university,　education level,　experience,　last new job,　company size)*\n",
        "\n",
        "---"
      ],
      "metadata": {
        "id": "dSU1Fl8-LkzE"
      }
    },
    {
      "cell_type": "code",
      "source": [
        "# 3.1_2에서 Mapping을 위해 만든 dictionary를 활용\n",
        "\n",
        "train_mice = train_map.copy()\n",
        "mice_imputer = IterativeImputer()\n",
        "\n",
        "train_mice['enrolled_university']= mice_imputer.fit_transform(train_map[['enrolled_university']])\n",
        "train_mice['enrolled_university'] = round(train_mice['enrolled_university'])\n",
        "\n",
        "train_mice['education_level'] = mice_imputer.fit_transform(train_map[['education_level']])\n",
        "train_mice['education_level'] = round(train_mice['education_level'])\n",
        "\n",
        "train_mice['experience']= mice_imputer.fit_transform(train_map[['experience']])\n",
        "train_mice['experience'] = round(train_mice['experience'])\n",
        "\n",
        "train_mice['last_new_job']= mice_imputer.fit_transform(train_map[['last_new_job']])\n",
        "train_mice['last_new_job'] = round(train_mice['last_new_job'])\n",
        "\n",
        "train_mice['company_size']= mice_imputer.fit_transform(train_map[['company_size']])\n",
        "train_mice['company_size'] = round(train_mice['company_size'])"
      ],
      "metadata": {
        "id": "yVU-3SS4RHAH"
      },
      "execution_count": null,
      "outputs": []
    },
    {
      "cell_type": "code",
      "source": [
        "train_mice.isna().sum()"
      ],
      "metadata": {
        "id": "OkX7XhSrTj47"
      },
      "execution_count": null,
      "outputs": []
    },
    {
      "cell_type": "markdown",
      "source": [
        ">> ### **3.1_4 Categorical Variable Missing Value Processing**\n",
        "- datawig 라이브러리를 활용해 결측값 대치\n",
        "- *(major_discipline,　gender,　company_type)*\n",
        "\n",
        "---"
      ],
      "metadata": {
        "id": "zwWnzOC_UM-b"
      }
    },
    {
      "cell_type": "code",
      "source": [
        ""
      ],
      "metadata": {
        "id": "gFrYDbP3UtjR"
      },
      "execution_count": null,
      "outputs": []
    },
    {
      "cell_type": "code",
      "source": [
        ""
      ],
      "metadata": {
        "id": "VzUn_QNfUtl_"
      },
      "execution_count": null,
      "outputs": []
    },
    {
      "cell_type": "code",
      "source": [
        ""
      ],
      "metadata": {
        "id": "GOJhpbmxUtph"
      },
      "execution_count": null,
      "outputs": []
    },
    {
      "cell_type": "code",
      "source": [
        "# enrollee_id 중복값이 없음을 확인\n",
        "train.enrollee_id.value_counts().max()\n",
        "# id는 고유의 수임이 확인 되었으므로 index로 사용 / 아이디 순서대로 나열\n",
        "train = train.sort_values('enrollee_id')\n",
        "# enrollee_id를 index로 지정 완료\n",
        "train = train.set_index('enrollee_id')\n",
        "train.head()"
      ],
      "metadata": {
        "id": "L8QTuj3mUtr3"
      },
      "execution_count": null,
      "outputs": []
    },
    {
      "cell_type": "markdown",
      "source": [
        "\n",
        "\n",
        ">> ### 3.1_1 enrollee_id\n",
        "\n",
        "---\n",
        "\n",
        "\n",
        "\n",
        "\n",
        "\n",
        "\n",
        "\n",
        "\n",
        "\n",
        "\n"
      ],
      "metadata": {
        "id": "ojxH4Knt8lUo"
      }
    },
    {
      "cell_type": "markdown",
      "source": [
        "gender,　enrolled_university,　major_discipline,　company_type              "
      ],
      "metadata": {
        "id": "Vy67QHGcMhLQ"
      }
    },
    {
      "cell_type": "code",
      "source": [
        "# 중복값이 없음을 확인\n",
        "train.enrollee_id.value_counts().max()"
      ],
      "metadata": {
        "id": "PDV89fzu7aBe"
      },
      "execution_count": null,
      "outputs": []
    },
    {
      "cell_type": "code",
      "source": [
        "# id는 고유의 수임이 확인 되었으므로 index로 사용하면 편할것으로 예상 / 아이디 순서대로 나열\n",
        "train = train.sort_values('enrollee_id')"
      ],
      "metadata": {
        "id": "ll9cxZiH7g7N"
      },
      "execution_count": null,
      "outputs": []
    },
    {
      "cell_type": "code",
      "source": [
        "# enrollee_id를 index로 지정 완료\n",
        "train = train.set_index('enrollee_id')\n",
        "train.head()"
      ],
      "metadata": {
        "id": "oYbayWlY5pqv"
      },
      "execution_count": null,
      "outputs": []
    },
    {
      "cell_type": "markdown",
      "source": [
        ">> ### 3.1_2 city, city_development_index Wrangling\n",
        "\n",
        "\n",
        "---\n",
        "\n",
        "\n"
      ],
      "metadata": {
        "id": "bh9xhxz2CobE"
      }
    },
    {
      "cell_type": "code",
      "source": [
        "# city column은 city_code형태로 되어있으며, 이는 도시를 code화 시킨 고유값임을 알 수 있음. / 오탈자가 없어 따로 핸들링하지 않음\n",
        "train.city.unique()"
      ],
      "metadata": {
        "id": "AwFZvSHz-rHl"
      },
      "execution_count": null,
      "outputs": []
    },
    {
      "cell_type": "code",
      "source": [
        "# city_development_index의 최소, 최대값을 확인하고, 이에따라 0.1단위로 등급을 부여\n",
        "print(train.city_development_index.max())\n",
        "print(train.city_development_index.min())\n",
        "\n",
        "train[\"city_development_index\"] = round(train[\"city_development_index\"]*10,0)\n",
        "\n",
        "train.CDI = train.CDI.astype(int)\n",
        "train.CDI.unique()\n",
        "\n",
        "train.head()"
      ],
      "metadata": {
        "id": "345swONQ-rJ2"
      },
      "execution_count": null,
      "outputs": []
    },
    {
      "cell_type": "code",
      "source": [
        "train.head()"
      ],
      "metadata": {
        "id": "4QSmcEkOGL_E"
      },
      "execution_count": null,
      "outputs": []
    },
    {
      "cell_type": "markdown",
      "source": [
        "\n",
        ">> ### 3.1_3 Gender\n",
        "\n",
        "---"
      ],
      "metadata": {
        "id": "ooXXVlWI1vLF"
      }
    },
    {
      "cell_type": "code",
      "source": [
        "train.gender.unique()"
      ],
      "metadata": {
        "id": "ZeQP-qCzNCUW"
      },
      "execution_count": null,
      "outputs": []
    },
    {
      "cell_type": "code",
      "source": [
        "train.gender = train.gender.fillna(value = 'No Data')\n",
        "train.gender.unique()"
      ],
      "metadata": {
        "id": "RaJex20n15_R"
      },
      "execution_count": null,
      "outputs": []
    },
    {
      "cell_type": "markdown",
      "source": [
        ">> ### 3.1_4 Relevent_Experience\n",
        "---"
      ],
      "metadata": {
        "id": "Csi1CZE_2eeg"
      }
    },
    {
      "cell_type": "code",
      "source": [
        "# 사실상 boolean으로, T,F로 분류\n",
        "train.relevent_experience.unique()"
      ],
      "metadata": {
        "id": "iYqrgoUgMfK4"
      },
      "execution_count": null,
      "outputs": []
    },
    {
      "cell_type": "code",
      "source": [
        "train.relevent_experience = train.relevent_experience.replace(\"No relevent experience\", 'F')\n",
        "train.relevent_experience = train.relevent_experience.replace(\"Has relevent experience\", 'T')\n",
        "train.relevent_experience.unique()"
      ],
      "metadata": {
        "id": "c61-e4yP2twQ"
      },
      "execution_count": null,
      "outputs": []
    },
    {
      "cell_type": "markdown",
      "source": [
        ">> ### 3.1_5 Enrolled_University\n",
        "\n",
        "---"
      ],
      "metadata": {
        "id": "6WYYoqh44rGL"
      }
    },
    {
      "cell_type": "code",
      "source": [
        "train.enrolled_university.unique()"
      ],
      "metadata": {
        "id": "x5mtyZdd3n_-"
      },
      "execution_count": null,
      "outputs": []
    },
    {
      "cell_type": "code",
      "source": [
        "train.enrolled_university = train.enrolled_university.replace(\"no_enrollment\", \"Not applicable\")\n",
        "train.enrolled_university = train.enrolled_university.fillna(value = 'No Data')\n",
        "train.enrolled_university.unique()"
      ],
      "metadata": {
        "id": "JOU6txroEGnB"
      },
      "execution_count": null,
      "outputs": []
    },
    {
      "cell_type": "markdown",
      "source": [
        ">> ### 3.1_6 Education_Level\n",
        "\n",
        "---\n",
        "\n"
      ],
      "metadata": {
        "id": "s9AAMUpxFN9a"
      }
    },
    {
      "cell_type": "code",
      "source": [
        "train.education_level.unique()"
      ],
      "metadata": {
        "id": "aW_5U9l4EUWb"
      },
      "execution_count": null,
      "outputs": []
    },
    {
      "cell_type": "code",
      "source": [
        "train.education_level = train.education_level.fillna(value = 'No Data')\n",
        "train.education_level.unique()"
      ],
      "metadata": {
        "id": "jSXCk5e4FYEC"
      },
      "execution_count": null,
      "outputs": []
    },
    {
      "cell_type": "markdown",
      "source": [
        ">> ### 3.1_7 Major_Discipline\n",
        "\n",
        "---"
      ],
      "metadata": {
        "id": "DMTTbZUwGd9u"
      }
    },
    {
      "cell_type": "code",
      "source": [
        "train.major_discipline.unique()"
      ],
      "metadata": {
        "id": "daZW8AyLGpZI"
      },
      "execution_count": null,
      "outputs": []
    },
    {
      "cell_type": "code",
      "source": [
        "train.major_discipline = train.major_discipline.fillna(value = 'No Data')\n",
        "train.major_discipline.unique()"
      ],
      "metadata": {
        "id": "HXTO9gyZG0Fy"
      },
      "execution_count": null,
      "outputs": []
    },
    {
      "cell_type": "markdown",
      "source": [
        ">> ### 3.1_8 Experience\n",
        "---"
      ],
      "metadata": {
        "id": "htD00Gz_HY46"
      }
    },
    {
      "cell_type": "code",
      "source": [
        "train.experience.unique()"
      ],
      "metadata": {
        "id": "hYKTMHnJHbPI"
      },
      "execution_count": null,
      "outputs": []
    },
    {
      "cell_type": "code",
      "source": [
        "train.experience = train.experience.replace(\">20\", \"21\")\n",
        "train.experience = train.experience.replace(\"<1\", \"0\")\n",
        "train.experience = train.experience.fillna(value = \"999\")\n",
        "train.experience = train.experience.apply(pd.to_numeric)\n",
        "train.experience.unique()"
      ],
      "metadata": {
        "id": "zzen5eIOHkx2"
      },
      "execution_count": null,
      "outputs": []
    },
    {
      "cell_type": "markdown",
      "source": [
        ">> ### 3.1_9 Company_Size\n",
        "\n",
        "---"
      ],
      "metadata": {
        "id": "7hyM9sy0Ir8a"
      }
    },
    {
      "cell_type": "code",
      "source": [
        "train.company_size.unique()"
      ],
      "metadata": {
        "id": "a5qAeQmOIrnc"
      },
      "execution_count": null,
      "outputs": []
    },
    {
      "cell_type": "code",
      "source": [
        "train.company_size = train.company_size.replace(\"<10\", \"9\")\n",
        "train.company_size = train.company_size.replace(\"10/49\", \"49\")\n",
        "train.company_size = train.company_size.replace(\"50-99\", \"99\")\n",
        "train.company_size = train.company_size.replace(\"100-500\", \"499\")\n",
        "train.company_size = train.company_size.replace(\"500-999\", \"999\")\n",
        "train.company_size = train.company_size.replace(\"1000-4999\", \"4999\")\n",
        "train.company_size = train.company_size.replace(\"5000-9999\", \"9999\")\n",
        "train.company_size = train.company_size.replace(\"10000+\", \"10000\")\n",
        "train.company_size = train.company_size.fillna(value = '0')\n",
        "train.company_size = train.company_size.apply(pd.to_numeric)\n",
        "train.company_size.unique()"
      ],
      "metadata": {
        "id": "gzbnYFN5I6s8"
      },
      "execution_count": null,
      "outputs": []
    },
    {
      "cell_type": "markdown",
      "source": [
        ">> ### 3.1_10 Company_Type\n",
        "---"
      ],
      "metadata": {
        "id": "zxL4g_GJHJEx"
      }
    },
    {
      "cell_type": "code",
      "source": [
        "train.company_type.unique()"
      ],
      "metadata": {
        "id": "TKNF3LWlHMht"
      },
      "execution_count": null,
      "outputs": []
    },
    {
      "cell_type": "code",
      "source": [
        "train.company_type = train.company_type.fillna(value = 'No Data')\n",
        "train.company_type.unique()"
      ],
      "metadata": {
        "id": "gWlxCisNHMn8"
      },
      "execution_count": null,
      "outputs": []
    },
    {
      "cell_type": "markdown",
      "source": [
        ">> ### 3.1_11 Last_New_Job\n",
        "\n",
        "---"
      ],
      "metadata": {
        "id": "9mQ4-LquHoPb"
      }
    },
    {
      "cell_type": "code",
      "source": [
        "train.last_new_job.unique()"
      ],
      "metadata": {
        "id": "BiSY9h8ZHm81"
      },
      "execution_count": null,
      "outputs": []
    },
    {
      "cell_type": "code",
      "source": [
        "train.last_new_job = train.last_new_job.replace(\"never\", 0)\n",
        "train.last_new_job = train.last_new_job.replace(\">4\", 5)\n",
        "train.last_new_job = train.last_new_job.fillna(value = 999)\n",
        "train.last_new_job = train.last_new_job.apply(pd.to_numeric)\n",
        "train.last_new_job.unique()"
      ],
      "metadata": {
        "id": "2K-OD_mUHs-e"
      },
      "execution_count": null,
      "outputs": []
    },
    {
      "cell_type": "markdown",
      "source": [
        ">> ### 3.1_12 Final Confirmation\n",
        "\n",
        "---"
      ],
      "metadata": {
        "id": "E6J7Ar-dPN4A"
      }
    },
    {
      "cell_type": "code",
      "source": [
        "# 데이터수의 변화가 없음을 확인\n",
        "train.shape"
      ],
      "metadata": {
        "id": "pqv1dyDUKxSL"
      },
      "execution_count": null,
      "outputs": []
    },
    {
      "cell_type": "code",
      "source": [
        "train_copy = train"
      ],
      "metadata": {
        "id": "GiLGHs81fHwZ"
      },
      "execution_count": null,
      "outputs": []
    },
    {
      "cell_type": "code",
      "source": [
        "# train = train.rename(columns={'city_development_index':'CDI'})"
      ],
      "metadata": {
        "id": "vUybmduevrLY"
      },
      "execution_count": null,
      "outputs": []
    },
    {
      "cell_type": "code",
      "source": [
        "# column순서 변경\n",
        "train=train[['CDI','gender', 'relevent_experience',\n",
        "       'enrolled_university', 'education_level', 'major_discipline',\n",
        "       'experience', 'company_size', 'company_type', 'last_new_job',\n",
        "       'training_hours', 'target']]\n",
        "train.head()"
      ],
      "metadata": {
        "id": "NcQUaqMMJ8Rv"
      },
      "execution_count": null,
      "outputs": []
    },
    {
      "cell_type": "code",
      "source": [
        "train.target = train.target.astype(int)"
      ],
      "metadata": {
        "id": "quWAU3vuYzQ-"
      },
      "execution_count": null,
      "outputs": []
    },
    {
      "cell_type": "code",
      "source": [
        "train.info()"
      ],
      "metadata": {
        "id": "-Ln02V1dzpL1"
      },
      "execution_count": null,
      "outputs": []
    },
    {
      "cell_type": "markdown",
      "source": [
        "\n",
        "\n",
        "> ## 3.2 Encoding\n",
        "\n",
        "---\n",
        "\n",
        "\n",
        "\n"
      ],
      "metadata": {
        "id": "f6S-XsVtzfXX"
      }
    },
    {
      "cell_type": "markdown",
      "source": [
        "\n",
        "\n",
        "> ### 3.2_1 Model performance after only Encoding(before SMOTE)\n",
        "\n",
        "---\n",
        "\n",
        "\n",
        "\n"
      ],
      "metadata": {
        "id": "lChHHAmLOJzF"
      }
    },
    {
      "cell_type": "code",
      "source": [
        "sns.displot(train.target)"
      ],
      "metadata": {
        "id": "uHFoH7MJsrCR"
      },
      "execution_count": null,
      "outputs": []
    },
    {
      "cell_type": "code",
      "source": [
        "target = 'target'\n",
        "feature = train.drop([target], axis = 1).columns"
      ],
      "metadata": {
        "id": "I6uqf7OfpvGZ"
      },
      "execution_count": null,
      "outputs": []
    },
    {
      "cell_type": "code",
      "source": [
        "train_base, test_base = train_test_split(train, train_size = 0.8, test_size = 0.2,\n",
        "                              stratify = train[target], random_state = 2)"
      ],
      "metadata": {
        "id": "P3mYgIi3Ngtl"
      },
      "execution_count": null,
      "outputs": []
    },
    {
      "cell_type": "code",
      "source": [
        "X_train = train_base[feature]\n",
        "y_train = train_base[target]\n",
        "X_test = test_base[feature]\n",
        "y_test = test_base[target]"
      ],
      "metadata": {
        "id": "XAedXpy6pwcW"
      },
      "execution_count": null,
      "outputs": []
    },
    {
      "cell_type": "code",
      "source": [
        "le = preprocessing.LabelEncoder()\n",
        "X_train = X_train.apply(le.fit_transform)\n",
        "X_test = X_test.apply(le.fit_transform)"
      ],
      "metadata": {
        "id": "l57fCI0Cp3R7"
      },
      "execution_count": null,
      "outputs": []
    },
    {
      "cell_type": "code",
      "source": [
        "model = XGBClassifier(\n",
        "    n_estimators=200,\n",
        "    random_state=42,\n",
        "    max_depth=7,\n",
        "    learning_rate=0.1,\n",
        "    n_jobs=-1\n",
        ")"
      ],
      "metadata": {
        "id": "bZCeIugfNhSG"
      },
      "execution_count": null,
      "outputs": []
    },
    {
      "cell_type": "code",
      "source": [
        "eval_set = [(X_train, y_train), \n",
        "            (X_test, y_test)]"
      ],
      "metadata": {
        "id": "pzqZvIglNhWI"
      },
      "execution_count": null,
      "outputs": []
    },
    {
      "cell_type": "code",
      "source": [
        "model.fit(X_train, y_train, \n",
        "          eval_set=eval_set,\n",
        "          eval_metric='error',\n",
        "          early_stopping_rounds=50\n",
        "         )"
      ],
      "metadata": {
        "id": "7Pj458m1NhZ5"
      },
      "execution_count": null,
      "outputs": []
    },
    {
      "cell_type": "code",
      "source": [
        "y_test_pred = model.predict(X_test)\n",
        "print(\"score:\",model.score(X_test,y_test))\n",
        "print(\"F1_score:\",f1_score(y_test, y_test_pred))"
      ],
      "metadata": {
        "id": "oDULyIR2Nhdb"
      },
      "execution_count": null,
      "outputs": []
    },
    {
      "cell_type": "code",
      "source": [
        "train.head()"
      ],
      "metadata": {
        "id": "kh63870wtqWf"
      },
      "execution_count": null,
      "outputs": []
    },
    {
      "cell_type": "markdown",
      "source": [
        "\n",
        "\n",
        "> ## 3.3 Data Balancing\n",
        "\n",
        "---\n",
        "\n",
        "\n",
        "\n"
      ],
      "metadata": {
        "id": "6h0hPsG6Oc6R"
      }
    },
    {
      "cell_type": "code",
      "source": [
        "train_enc = train.apply(le.fit_transform)"
      ],
      "metadata": {
        "id": "jTWr5HhUuCMB"
      },
      "execution_count": null,
      "outputs": []
    },
    {
      "cell_type": "code",
      "source": [
        "map = le.fit_transform(train['enrolled_university'].values)"
      ],
      "metadata": {
        "id": "PoxxjITSyUX0"
      },
      "execution_count": null,
      "outputs": []
    },
    {
      "cell_type": "code",
      "source": [
        "map2 = le.inverse_transform(map)"
      ],
      "metadata": {
        "id": "k-lYfuE5y77t"
      },
      "execution_count": null,
      "outputs": []
    },
    {
      "cell_type": "code",
      "source": [
        "map"
      ],
      "metadata": {
        "id": "PCp5hM85zBQN"
      },
      "execution_count": null,
      "outputs": []
    },
    {
      "cell_type": "code",
      "source": [
        "map2"
      ],
      "metadata": {
        "id": "k1SBIisT3hJt"
      },
      "execution_count": null,
      "outputs": []
    },
    {
      "cell_type": "code",
      "source": [
        "np.unique(map)"
      ],
      "metadata": {
        "id": "YtoCL0753fvm"
      },
      "execution_count": null,
      "outputs": []
    },
    {
      "cell_type": "code",
      "source": [
        "np.unique(map2)"
      ],
      "metadata": {
        "id": "DMZhj0dPzCE0"
      },
      "execution_count": null,
      "outputs": []
    },
    {
      "cell_type": "code",
      "source": [
        ""
      ],
      "metadata": {
        "id": "Utz0QJFY3ShA"
      },
      "execution_count": null,
      "outputs": []
    },
    {
      "cell_type": "code",
      "source": [
        "le.inverse_transform(map)"
      ],
      "metadata": {
        "id": "hGKRBty72KR_"
      },
      "execution_count": null,
      "outputs": []
    },
    {
      "cell_type": "code",
      "source": [
        "train_enc.head()"
      ],
      "metadata": {
        "id": "PNKht6IluSDk"
      },
      "execution_count": null,
      "outputs": []
    },
    {
      "cell_type": "code",
      "source": [
        "X_train_enc = train_enc[feature]\n",
        "y_train_enc = train_enc[target]"
      ],
      "metadata": {
        "id": "0ELKcVf8D5BV"
      },
      "execution_count": null,
      "outputs": []
    },
    {
      "cell_type": "code",
      "source": [
        "sns.displot(target)"
      ],
      "metadata": {
        "id": "2XvNxwQ-wbCa"
      },
      "execution_count": null,
      "outputs": []
    },
    {
      "cell_type": "code",
      "source": [
        "feature, target = SMOTE(random_state = 42).fit_resample(X_train_enc, y_train_enc)"
      ],
      "metadata": {
        "id": "81DVQ7xQ57c1"
      },
      "execution_count": null,
      "outputs": []
    },
    {
      "cell_type": "code",
      "source": [
        "feature.shape # After SMOTE"
      ],
      "metadata": {
        "id": "0jW1z8fP6O8G"
      },
      "execution_count": null,
      "outputs": []
    },
    {
      "cell_type": "code",
      "source": [
        "sns.displot(target)"
      ],
      "metadata": {
        "id": "mOkP-k5s7Wva"
      },
      "execution_count": null,
      "outputs": []
    },
    {
      "cell_type": "code",
      "source": [
        "feature"
      ],
      "metadata": {
        "id": "ufHH2tQowjl8"
      },
      "execution_count": null,
      "outputs": []
    },
    {
      "cell_type": "markdown",
      "source": [
        "#4. Modeling\n",
        "\n",
        "\n",
        "---\n",
        "\n"
      ],
      "metadata": {
        "id": "1wDoo_1m8Wer"
      }
    },
    {
      "cell_type": "markdown",
      "source": [
        "\n",
        "\n",
        "> ## 4.1 Baseline Model Select\n",
        "\n",
        "\n",
        "\n",
        "\n",
        "\n",
        "\n",
        "\n",
        "\n"
      ],
      "metadata": {
        "id": "lXgRF48xTqAV"
      }
    },
    {
      "cell_type": "code",
      "source": [
        "X_train, X_test, y_train, y_test = train_test_split(feature, target, test_size=0.2,\n",
        "                                                    stratify=target, random_state = 42)"
      ],
      "metadata": {
        "id": "VRuPWfpbUUje"
      },
      "execution_count": null,
      "outputs": []
    },
    {
      "cell_type": "markdown",
      "source": [
        "> > ### 4.1_1 RandomForest Model\n",
        "\n",
        "---\n",
        "\n"
      ],
      "metadata": {
        "id": "xt1BUKuYUQ3t"
      }
    },
    {
      "cell_type": "code",
      "source": [
        "model1 = RandomForestClassifier(random_state = 2)\n",
        "model1.fit(X_train, y_train)"
      ],
      "metadata": {
        "id": "dhXyAapd9b0P"
      },
      "execution_count": null,
      "outputs": []
    },
    {
      "cell_type": "code",
      "source": [
        "y_test_pred = model1.predict(X_test)\n",
        "print(\"model1_score:\",model1.score(X_test,y_test))\n",
        "print(\"model1_F1_score:\",f1_score(y_test, y_test_pred))\n",
        "print('model1_AUC score:',roc_auc_score(y_test, y_test_pred))"
      ],
      "metadata": {
        "id": "cBft3ULAZPcn"
      },
      "execution_count": null,
      "outputs": []
    },
    {
      "cell_type": "code",
      "source": [
        "fig, ax = plt.subplots(figsize=(15, 7))\n",
        "pcm = plot_confusion_matrix(model1, X_test, y_test,\n",
        "                            cmap=plt.cm.Blues,\n",
        "                            ax=ax);\n",
        "plt.title(f'Confusion matrix, n = {len(y_test)}', fontsize=15)\n",
        "plt.show()"
      ],
      "metadata": {
        "id": "bQKduS77-Z3V"
      },
      "execution_count": null,
      "outputs": []
    },
    {
      "cell_type": "markdown",
      "source": [
        "> > ### 4.1_2 Gradient Boost Model\n",
        "\n",
        "---\n",
        "\n"
      ],
      "metadata": {
        "id": "ityrHcGFUF0C"
      }
    },
    {
      "cell_type": "code",
      "source": [
        "model2 = XGBClassifier(\n",
        "    n_estimators=130,\n",
        "    random_state=42,\n",
        "    max_depth=10,\n",
        "    learning_rate=0.1,\n",
        "    n_jobs=-1\n",
        ")"
      ],
      "metadata": {
        "id": "6cWtvEna-jcN"
      },
      "execution_count": null,
      "outputs": []
    },
    {
      "cell_type": "code",
      "source": [
        "eval_set = [(X_train, y_train), \n",
        "            (X_test, y_test)]"
      ],
      "metadata": {
        "id": "w640OkEt-m7p"
      },
      "execution_count": null,
      "outputs": []
    },
    {
      "cell_type": "code",
      "source": [
        "model2.fit(X_train, y_train, \n",
        "          eval_set=eval_set,\n",
        "          eval_metric='error',\n",
        "          early_stopping_rounds=50\n",
        "         )"
      ],
      "metadata": {
        "id": "uroJwIOx-qgf"
      },
      "execution_count": null,
      "outputs": []
    },
    {
      "cell_type": "code",
      "source": [
        "y_test_pred = model2.predict(X_test)\n",
        "print(\"model2_score:\",model2.score(X_test,y_test))\n",
        "print(\"model2_F1_score:\",f1_score(y_test, y_test_pred))\n",
        "print('model2_AUC score:',roc_auc_score(y_test, y_test_pred))\n",
        "# model2의 지표가 model1보다 좋으므로, baseline model은 Gradient Boost Model인 model2이다."
      ],
      "metadata": {
        "id": "FLlHTsODZ4ak"
      },
      "execution_count": null,
      "outputs": []
    },
    {
      "cell_type": "code",
      "source": [
        "fig, ax = plt.subplots(figsize=(15, 7))\n",
        "pcm = plot_confusion_matrix(model2, X_test, y_test,\n",
        "                            cmap=plt.cm.Blues,\n",
        "                            ax=ax);\n",
        "plt.title(f'Confusion matrix, n = {len(y_test)}', fontsize=15)"
      ],
      "metadata": {
        "id": "hcPdbGUQ-4IE"
      },
      "execution_count": null,
      "outputs": []
    },
    {
      "cell_type": "markdown",
      "source": [
        "> ## 4.2 Hyperparameter Tuning_(Gradient Boost Model / Using RandomizedSearch)"
      ],
      "metadata": {
        "id": "UMqRF88RVJ5A"
      }
    },
    {
      "cell_type": "code",
      "source": [
        "model2.get_params().keys()"
      ],
      "metadata": {
        "id": "kvhom67x-S5d"
      },
      "execution_count": null,
      "outputs": []
    },
    {
      "cell_type": "code",
      "source": [
        "clf = XGBClassifier()\n",
        "\n",
        "dists = {\n",
        "        'silent': [False], # 동작 메시지를 프린트하지 않음\n",
        "        'max_depth': randint(2,20), # 트리의 최대 깊이\n",
        "        'learning_rate': [0.05, 0.1, 0.2, 0,3], # 학습률\n",
        "        'subsample': [0.5, 0.6, 0.7, 0.8, 0.9, 1.0], # 데이터의 샘플링 비율\n",
        "        'colsample_bytree': [0.4, 0.5, 0.6, 0.7, 0.8, 0.9, 1.0], # 각 노드 depth 마다 사용할 칼럼(Feature)의 비율\n",
        "        'colsample_bylevel': [0.4, 0.5, 0.6, 0.7, 0.8, 0.9, 1.0], # 각 트리 depth 마다 사용할 칼럼(Feature)의 비율\n",
        "        'min_child_weight': [0.5, 1.0, 3.0, 5.0, 7.0, 10.0], # 관측에서 요구되는 최소 가중치의 합 / over-fitting vs under-fitting을 조정하기 위한 파라미터\n",
        "        'gamma': [0, 0.25, 0.5, 1.0], # 분할을 수행하는데 필요한 최소 손실 감소를 지정한다. / Overfitting 방지에 좋으나 너무 높으면 underfitting 이 생길 수가 있다.(알고리즘을 보수적으로 만듬)\n",
        "        'reg_lambda': [0.1, 1.0, 5.0, 10.0, 50.0, 100.0], # 가중치에 대한 L2 정규화 용어\n",
        "        'n_estimators': [100,200,300,400,500] # 모델 객체 지정\n",
        "}\n",
        "\n",
        "fit_dists = {'eval_metric': 'mlogloss',\n",
        "              'early_stopping_rounds': 50,\n",
        "              'eval_set': [(X_test, y_test_pred)]}\n",
        "\n",
        "rs_clf = RandomizedSearchCV(clf, dists, n_iter=10, # n_iter : 파라미터 검색 횟수\n",
        "                            n_jobs=-1, verbose=2, cv=10, # cv : 교차검증 시 fold 갯수\n",
        "                            scoring='f1', refit=False, random_state=42)"
      ],
      "metadata": {
        "id": "i1v3cGJ0-Zyr"
      },
      "execution_count": null,
      "outputs": []
    },
    {
      "cell_type": "code",
      "source": [
        "# rs_clf.fit(X_train, y_train)\n",
        "# best_score = rs_clf.best_score_\n",
        "# best_params = rs_clf.best_params_\n",
        "# print(\"Best score: \",best_score)\n",
        "# print(\"Best params: \")\n",
        "# for param_name in sorted(best_params.keys()):\n",
        "#   print('%s: %r' % (param_name, best_params[param_name]))"
      ],
      "metadata": {
        "id": "QsegUbOx-k2b"
      },
      "execution_count": null,
      "outputs": []
    },
    {
      "cell_type": "code",
      "source": [
        "# Best params: \n",
        "# colsample_bylevel: 1.0\n",
        "# colsample_bytree: 0.5\n",
        "# gamma: 1.0\n",
        "# learning_rate: 0.05\n",
        "# max_depth: 15\n",
        "# min_child_weight: 1.0\n",
        "# n_estimators: 400\n",
        "# reg_lambda: 0.1\n",
        "# silent: False\n",
        "# subsample: 0.6"
      ],
      "metadata": {
        "id": "sgSsCvm5lrG5"
      },
      "execution_count": null,
      "outputs": []
    },
    {
      "cell_type": "code",
      "source": [
        "model2 = XGBClassifier(\n",
        "    colsample_bylevel = 1.0,\n",
        "    colsample_bytree = 0.5,\n",
        "    gamma = 1.0,\n",
        "    learning_rate = 0.05,\n",
        "    max_depth = 15,\n",
        "    min_child_weight = 1.0,\n",
        "    n_estimators = 400,\n",
        "    reg_lambda = 0.1,\n",
        "    silent = False,\n",
        "    subsample = 0.6,\n",
        "    n_jobs=-1\n",
        ")"
      ],
      "metadata": {
        "id": "Ef_iPxAf-1S6"
      },
      "execution_count": null,
      "outputs": []
    },
    {
      "cell_type": "code",
      "source": [
        "eval_set2 = [(X_train, y_train),\n",
        "             (X_test, y_test)]"
      ],
      "metadata": {
        "id": "9JTxEipP_FrK"
      },
      "execution_count": null,
      "outputs": []
    },
    {
      "cell_type": "code",
      "source": [
        "model2.fit(X_train, y_train, \n",
        "          eval_set=eval_set2,\n",
        "          eval_metric='error',\n",
        "          early_stopping_rounds=50\n",
        "         )"
      ],
      "metadata": {
        "id": "bZHbaopU_A_S"
      },
      "execution_count": null,
      "outputs": []
    },
    {
      "cell_type": "code",
      "source": [
        "y_test_pred = model2.predict(X_test)\n",
        "print(\"mainmodel_score:\",model2.score(X_test,y_test))\n",
        "print(\"mainmodel_F1_score:\",f1_score(y_test, y_test_pred))\n",
        "print('mainmodel_AUC score:',roc_auc_score(y_test, y_test_pred))"
      ],
      "metadata": {
        "id": "-3YbAamV_LBr"
      },
      "execution_count": null,
      "outputs": []
    },
    {
      "cell_type": "code",
      "source": [
        "threshold = 0.5\n",
        "\n",
        "y_pred_proba = model2.predict_proba(X_test)[:, 1]\n",
        "pred_test = y_pred_proba > threshold\n",
        "  \n",
        "print(classification_report(y_test, pred_test))"
      ],
      "metadata": {
        "id": "xRmMNQJHB0K7"
      },
      "execution_count": null,
      "outputs": []
    },
    {
      "cell_type": "code",
      "source": [
        "# roc_curve(타겟값, prob of 1)\n",
        "fpr, tpr, thresholds = roc_curve(y_test, y_pred_proba)\n",
        "\n",
        "roc = pd.DataFrame({\n",
        "    'FPR(Fall-out)': fpr, \n",
        "    'TPRate(Recall)': tpr, \n",
        "    'Threshold': thresholds\n",
        "})\n",
        "roc"
      ],
      "metadata": {
        "id": "nsRy0Pjzv646"
      },
      "execution_count": null,
      "outputs": []
    },
    {
      "cell_type": "code",
      "source": [
        "optimal_idx = np.argmax(tpr - fpr)\n",
        "optimal_threshold = thresholds[optimal_idx]\n",
        "\n",
        "print('threshold:', optimal_threshold)"
      ],
      "metadata": {
        "id": "CU5lFLgIuljK"
      },
      "execution_count": null,
      "outputs": []
    },
    {
      "cell_type": "code",
      "source": [
        "threshold = optimal_threshold\n",
        "y_pred_proba = model2.predict_proba(X_test)[:, 1]\n",
        "pred_test = y_pred_proba > threshold\n",
        "\n",
        "print(classification_report(y_test, pred_test))"
      ],
      "metadata": {
        "id": "TauaG4W7wGef"
      },
      "execution_count": null,
      "outputs": []
    },
    {
      "cell_type": "code",
      "source": [
        "print(\"score:\",model2.score(X_test,pred_test))\n",
        "print(\"F1_score:\",f1_score(y_test, pred_test))\n",
        "print('pipe_AUC score:',roc_auc_score(y_test, pred_test))"
      ],
      "metadata": {
        "id": "uDVFE8O5sO2F"
      },
      "execution_count": null,
      "outputs": []
    },
    {
      "cell_type": "code",
      "source": [
        "fig, ax = plt.subplots(figsize=(15, 7))\n",
        "pcm = plot_confusion_matrix(model2, X_test, pred_test,\n",
        "                            cmap=plt.cm.Blues,\n",
        "                            ax=ax);\n",
        "plt.title(f'Confusion matrix, n = {len(y_test)}', fontsize=15)\n",
        "plt.show()"
      ],
      "metadata": {
        "id": "1paLVlfRNlmd"
      },
      "execution_count": null,
      "outputs": []
    },
    {
      "cell_type": "markdown",
      "source": [
        "#5. Analyze\n",
        "\n",
        "---"
      ],
      "metadata": {
        "id": "-3uOS-2WHx21"
      }
    },
    {
      "cell_type": "code",
      "source": [
        "import shap\n",
        "explainer = shap.TreeExplainer(model2)\n",
        "shap_values = explainer.shap_values(X_test.iloc[:])\n",
        "shap.summary_plot(shap_values, X_test.iloc[:], plot_type=\"bar\")\n",
        "# 도시개발지수, 직종경험연차, 회사규모(회사에 종사중인 사원 수) 이하 순"
      ],
      "metadata": {
        "id": "8kVCYnuxnUsU"
      },
      "execution_count": null,
      "outputs": []
    },
    {
      "cell_type": "code",
      "source": [
        "features = X_test.columns\n",
        "feature = 'experience'\n",
        "pdp_dist = pdp.pdp_isolate(model=model2, dataset=X_test, model_features=features, feature=feature)\n",
        "pdp.pdp_plot(pdp_dist, feature);\n",
        "# 직종경험연차가 1년차부터 3년차까지 이직희망율이 비교적 높았으며, 이후 감소함을 알 수 있음\n",
        "# 이로인해 1-3년차의 주니어 분석가들은 사회 초년 경험이 쌓이면 보다 나은 대우를 받기 위해 이직하려 한다는 것을 추측할 수 있으며,\n",
        "# 연차가 10년 이상일 경우부터 한 직장에 정착하려 한다는 것을 추측할 수 있음."
      ],
      "metadata": {
        "id": "JMyGGSPfSRfc"
      },
      "execution_count": null,
      "outputs": []
    },
    {
      "cell_type": "code",
      "source": [
        "features = X_test.columns\n",
        "feature = 'CDI'\n",
        "pdp_dist = pdp.pdp_isolate(model=model2, dataset=X_test, model_features=features, feature=feature)\n",
        "pdp.pdp_plot(pdp_dist, feature);\n",
        "# 도시 개발지수가 0.6-0.7(CDI 2번 이하)미만인 곳에 종사하는 사람들의 이직희망율이 양수의 영역에서 그려지고 있음.\n",
        "# 반대로 0.7-0.8 이상(CDI2번 이상)의 개발지수를 보이는 도시에서 종사하는 사람들은 이직 희망율이 감소하는것을 볼 수 있음\n",
        "# 또한, 도시개발지수가 0.6미만인 도시보다 0.6이상 0.7이하(CDI 2번)인 도시에서 이직 희망율이 더 높은것을 보면,\n",
        "# 0.7이상(CDI 2번 이상)의 도시에서부터 업무환경이 크게 차이날것이라고 추측해볼 수 있다."
      ],
      "metadata": {
        "id": "imEZFsMiWNoZ"
      },
      "execution_count": null,
      "outputs": []
    },
    {
      "cell_type": "code",
      "source": [
        "# XGBoost 시각화\n",
        "from xgboost import plot_tree \n",
        "from matplotlib.pylab import rcParams\n",
        "\n",
        "rcParams['figure.figsize'] = 100,150\n",
        "\n",
        "model3 = XGBClassifier(\n",
        "    colsample_bylevel = 1.0,\n",
        "    colsample_bytree = 0.5,\n",
        "    gamma = 1.0,\n",
        "    learning_rate = 0.05,\n",
        "    max_depth = 3,\n",
        "    min_child_weight = 1.0,\n",
        "    n_estimators = 500,\n",
        "    reg_lambda = 0.1,\n",
        "    silent = False,\n",
        "    subsample = 0.6,\n",
        "    n_jobs=-1\n",
        ")\n",
        "\n",
        "model3.fit(X_train, y_train, \n",
        "          eval_set=eval_set2,\n",
        "          eval_metric='error',\n",
        "          early_stopping_rounds=50\n",
        "         )\n",
        "\n",
        "plt.figure(figsize=(12,12))  # set plot size (denoted in inches)\n",
        "plot_tree(model3)\n",
        "plt.show()\n"
      ],
      "metadata": {
        "id": "pqvtblZn8LHr"
      },
      "execution_count": null,
      "outputs": []
    },
    {
      "cell_type": "markdown",
      "source": [
        "## 기타 시도 (숨김처리)"
      ],
      "metadata": {
        "id": "SJwubMEUyeM_"
      }
    },
    {
      "cell_type": "code",
      "source": [
        "#@title\n",
        "# train_raw.head()"
      ],
      "metadata": {
        "id": "wZ86g8XGu053"
      },
      "execution_count": null,
      "outputs": []
    },
    {
      "cell_type": "code",
      "source": [
        "#@title\n",
        "# train_group = train_3.groupby('target').get_group(1.0)"
      ],
      "metadata": {
        "id": "AMtDzuP34LMv"
      },
      "execution_count": null,
      "outputs": []
    },
    {
      "cell_type": "code",
      "source": [
        "#@title\n",
        "# train_raw_group = train_3.groupby(['city','city_level'], as_index=False).size()\n",
        "# train_raw_group = train_raw_group.rename(columns={'size':'count'}).reset_index(drop=False)\n",
        "# train_raw_group = train_raw_group.rename(columns={'city_level':'CDI'}).reset_index(drop=False)\n",
        "# train_raw_group = train_raw_group.sort_values(by = 'count', ascending=False).head(20).loc[:,'city':]"
      ],
      "metadata": {
        "id": "xLVnI7RdjGix"
      },
      "execution_count": null,
      "outputs": []
    },
    {
      "cell_type": "code",
      "source": [
        "#@title\n",
        "# plt.figure(figsize = (20,10))\n",
        "# sns.barplot(data = train_raw_group, x = 'city', y = 'count', hue = 'CDI', palette=(\"coolwarm\"), dodge=False)"
      ],
      "metadata": {
        "id": "Zn-xryRl7pjM"
      },
      "execution_count": null,
      "outputs": []
    },
    {
      "cell_type": "code",
      "source": [
        "#@title\n",
        "# train_raw_group2 = train_3.groupby(['city','city_level','target'], as_index=False).size()\n",
        "# train_raw_group2 = train_raw_group2.rename(columns={'size':'count'})\n",
        "# train_raw_group2 = train_raw_group2.rename(columns={'city_level':'CDI'})\n",
        "# train_raw_group2 = train_raw_group2.sort_values(by = 'count', ascending=False).head(237).loc[:,'city':]"
      ],
      "metadata": {
        "id": "UDSk7XZ6lhbN"
      },
      "execution_count": null,
      "outputs": []
    },
    {
      "cell_type": "code",
      "source": [
        "#@title\n",
        "# train_raw_group2.head()"
      ],
      "metadata": {
        "id": "j8ctDvXNzQVU"
      },
      "execution_count": null,
      "outputs": []
    },
    {
      "cell_type": "code",
      "source": [
        "#@title\n",
        "# train_raw_group.head(20).city"
      ],
      "metadata": {
        "id": "5f-u0KFG7XnZ"
      },
      "execution_count": null,
      "outputs": []
    },
    {
      "cell_type": "code",
      "source": [
        "#@title\n",
        "# train_raw_group2['sum'] = train_raw_group2.groupby('city')['count'].cumsum(axis=0)\n",
        "# train_raw_group2['norm_count'] = train_raw_group2.groupby('city')['count'].apply(lambda x : x/sum(x))"
      ],
      "metadata": {
        "id": "9czJYGS76BA7"
      },
      "execution_count": null,
      "outputs": []
    },
    {
      "cell_type": "code",
      "source": [
        "#@title\n",
        "# train_raw_group2.sort_values(by='CDI', ascending=False)"
      ],
      "metadata": {
        "id": "SVs4SoP86HyY"
      },
      "execution_count": null,
      "outputs": []
    },
    {
      "cell_type": "code",
      "source": [
        "#@title\n",
        "# \"city_103|city_21|city_16|city_114|city_160|city_136|city_67|city_75|city_102|city_104\"#|city_73|city_100|city_71|city_11|city_90|city_61|city_28|city_23|city_65|city_36\n",
        "# train_raw_group2 = train_raw_group2.loc[train_raw_group2.city.str.contains(\"city_103|city_21|city_16|city_114|city_160|city_136|city_67|city_75|city_102|city_104\", na=False)]"
      ],
      "metadata": {
        "id": "_4Je_0IR7kSx"
      },
      "execution_count": null,
      "outputs": []
    },
    {
      "cell_type": "code",
      "source": [
        "#@title\n",
        "# train_raw_group2"
      ],
      "metadata": {
        "id": "BtIXTMrR7Ob-"
      },
      "execution_count": null,
      "outputs": []
    },
    {
      "cell_type": "code",
      "source": [
        "#@title\n",
        "# plt.figure(figsize = (20, 10))\n",
        "# sns.barplot(x='city', y='count', hue='target', palette = 'coolwarm', data=train_raw_group2)\n",
        "# plt.title('Stacked Bar Chart by Seaborn', fontsize='20')\n",
        "# plt.show()"
      ],
      "metadata": {
        "id": "mfgsqi9A-qn0"
      },
      "execution_count": null,
      "outputs": []
    }
  ]
}